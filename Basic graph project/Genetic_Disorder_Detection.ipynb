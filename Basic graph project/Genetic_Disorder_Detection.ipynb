{
 "cells": [
  {
   "cell_type": "code",
   "execution_count": 114,
   "id": "f40f1729",
   "metadata": {},
   "outputs": [],
   "source": [
    "import pandas as pd\n",
    "import numpy as np\n",
    "from sklearn.preprocessing import LabelEncoder, StandardScaler\n",
    "from sklearn.impute import SimpleImputer\n"
   ]
  },
  {
   "cell_type": "markdown",
   "id": "36279d45",
   "metadata": {},
   "source": [
    "Import the dataset"
   ]
  },
  {
   "cell_type": "code",
   "execution_count": 115,
   "id": "e224785b",
   "metadata": {},
   "outputs": [
    {
     "name": "stdout",
     "output_type": "stream",
     "text": [
      "     Patient Id  Patient Age Genes in mother's side Inherited from father  \\\n",
      "0     PID0x4108          9.0                    Yes                    No   \n",
      "1     PID0x79da         13.0                     No                    No   \n",
      "2     PID0x2027         11.0                    Yes                    No   \n",
      "3      PID0xb53          3.0                     No                   Yes   \n",
      "4     PID0x8d3b          7.0                     No                    No   \n",
      "...         ...          ...                    ...                   ...   \n",
      "2429  PID0x7e53         12.0                     No                    No   \n",
      "2430  PID0x7b6f          8.0                    Yes                    No   \n",
      "2431  PID0x68b5          5.0                    Yes                    No   \n",
      "2432  PID0x5037          2.0                     No                    No   \n",
      "2433  PID0x1b43          1.0                     No                   Yes   \n",
      "\n",
      "     Maternal gene Paternal gene  Blood cell count (mcL) Patient First Name  \\\n",
      "0              Yes            No                5.035679             Gloria   \n",
      "1              NaN            No                4.833078             Thelma   \n",
      "2              Yes            No                4.742406           Victoria   \n",
      "3               No            No                5.635635             Bessie   \n",
      "4              NaN            No                5.572412             Joseph   \n",
      "...            ...           ...                     ...                ...   \n",
      "2429           NaN            No                4.781983               Paul   \n",
      "2430           Yes           Yes                5.121986               Mark   \n",
      "2431           Yes           Yes                5.389310               Mona   \n",
      "2432            No            No                4.748340              Robin   \n",
      "2433           NaN            No                4.915268             Thomas   \n",
      "\n",
      "     Family Name Father's name  ...  Birth defects  \\\n",
      "0            NaN        Jerray  ...       Singular   \n",
      "1            NaN        Erving  ...       Multiple   \n",
      "2            NaN      Vincente  ...       Singular   \n",
      "3            NaN       Dresden  ...       Multiple   \n",
      "4            NaN        Jasian  ...            -99   \n",
      "...          ...           ...  ...            ...   \n",
      "2429         NaN       Jostein  ...       Singular   \n",
      "2430         NaN          Zeth  ...       Multiple   \n",
      "2431         NaN        Jysiah  ...       Singular   \n",
      "2432         NaN       Blaydon  ...            -99   \n",
      "2433         NaN     Sahibdeep  ...            -99   \n",
      "\n",
      "      White Blood cell count (thousand per microliter)  Blood test result  \\\n",
      "0                                           -99.000000                -99   \n",
      "1                                           -99.000000                -99   \n",
      "2                                            11.119683                -99   \n",
      "3                                             6.897734                -99   \n",
      "4                                           -99.000000       inconclusive   \n",
      "...                                                ...                ...   \n",
      "2429                                          8.767848       inconclusive   \n",
      "2430                                        -99.000000           abnormal   \n",
      "2431                                          9.014487           abnormal   \n",
      "2432                                          7.189774  slightly abnormal   \n",
      "2433                                        -99.000000  slightly abnormal   \n",
      "\n",
      "     Symptom 1 Symptom 2 Symptom 3 Symptom 4  Symptom 5  Genetic Disorder  \\\n",
      "0         True      True     False      True      False                 1   \n",
      "1         True      True      True      True       True                 0   \n",
      "2        False      True     False      True      False                 1   \n",
      "3         True     False      True     False       True                 1   \n",
      "4         True     False      True     False       True                 0   \n",
      "...        ...       ...       ...       ...        ...               ...   \n",
      "2429      True     False     False     False       True                 0   \n",
      "2430      True      True     False      True       True                 1   \n",
      "2431      True      True     False     False       True                 1   \n",
      "2432     False      True     False      True       True                 0   \n",
      "2433      True      True     False     False      False                 1   \n",
      "\n",
      "         Genetic Disorder Name  \n",
      "0     Risk of Genetic Disorder  \n",
      "1          No Genetic Disorder  \n",
      "2     Risk of Genetic Disorder  \n",
      "3     Risk of Genetic Disorder  \n",
      "4          No Genetic Disorder  \n",
      "...                        ...  \n",
      "2429       No Genetic Disorder  \n",
      "2430  Risk of Genetic Disorder  \n",
      "2431  Risk of Genetic Disorder  \n",
      "2432       No Genetic Disorder  \n",
      "2433  Risk of Genetic Disorder  \n",
      "\n",
      "[2434 rows x 45 columns]\n"
     ]
    }
   ],
   "source": [
    "df = pd.read_csv(\"dataset.csv\")\n",
    "print(df)"
   ]
  },
  {
   "cell_type": "code",
   "execution_count": 116,
   "id": "6794e791",
   "metadata": {},
   "outputs": [
    {
     "data": {
      "text/plain": [
       "Index(['Patient Id', 'Patient Age', 'Genes in mother's side',\n",
       "       'Inherited from father', 'Maternal gene', 'Paternal gene',\n",
       "       'Blood cell count (mcL)', 'Patient First Name', 'Family Name',\n",
       "       'Father's name', 'Mother's age', 'Father's age', 'Institute Name',\n",
       "       'Location of Institute', 'Status', 'Respiratory Rate (breaths/min)',\n",
       "       'Heart Rate (rates/min', 'Test 1', 'Test 2', 'Test 3', 'Test 4',\n",
       "       'Test 5', 'Parental consent', 'Follow-up', 'Gender', 'Birth asphyxia',\n",
       "       'Autopsy shows birth defect (if applicable)', 'Place of birth',\n",
       "       'Folic acid details (peri-conceptional)',\n",
       "       'H/O serious maternal illness', 'H/O radiation exposure (x-ray)',\n",
       "       'H/O substance abuse', 'Assisted conception IVF/ART',\n",
       "       'History of anomalies in previous pregnancies',\n",
       "       'No. of previous abortion', 'Birth defects',\n",
       "       'White Blood cell count (thousand per microliter)', 'Blood test result',\n",
       "       'Symptom 1', 'Symptom 2', 'Symptom 3', 'Symptom 4', 'Symptom 5',\n",
       "       'Genetic Disorder', 'Genetic Disorder Name'],\n",
       "      dtype='object')"
      ]
     },
     "execution_count": 116,
     "metadata": {},
     "output_type": "execute_result"
    }
   ],
   "source": [
    "df.columns"
   ]
  },
  {
   "cell_type": "markdown",
   "id": "aa32fbff",
   "metadata": {},
   "source": [
    "Drop the irrevalent columns"
   ]
  },
  {
   "cell_type": "code",
   "execution_count": null,
   "id": "d618100a",
   "metadata": {},
   "outputs": [],
   "source": [
    "\n",
    "columns_to_drop = [\n",
    "    'Patient Id', 'Patient First Name', 'Family Name', \"Father's name\",\n",
    "    'Institute Name', 'Location of Institute', 'Genetic Disorder Name'\n",
    "]\n",
    "df.drop(columns=[col for col in columns_to_drop if col in df.columns], inplace=True)"
   ]
  },
  {
   "cell_type": "markdown",
   "id": "ec394201",
   "metadata": {},
   "source": [
    "Define the target column"
   ]
  },
  {
   "cell_type": "code",
   "execution_count": 118,
   "id": "979b0eca",
   "metadata": {},
   "outputs": [],
   "source": [
    "target_col = 'Genetic Disorder'"
   ]
  },
  {
   "cell_type": "markdown",
   "id": "14f188c7",
   "metadata": {},
   "source": [
    " Detect numeric and categorical columns"
   ]
  },
  {
   "cell_type": "code",
   "execution_count": 119,
   "id": "75d88086",
   "metadata": {},
   "outputs": [],
   "source": [
    "numeric_cols = df.select_dtypes(include=['number']).columns.tolist()\n",
    "if target_col in numeric_cols:\n",
    "    numeric_cols.remove(target_col)\n",
    "\n",
    "categorical_cols = df.select_dtypes(include=['object']).columns.tolist()"
   ]
  },
  {
   "cell_type": "markdown",
   "id": "b334f82e",
   "metadata": {},
   "source": [
    " Replace placeholder values with np.nan"
   ]
  },
  {
   "cell_type": "code",
   "execution_count": 120,
   "id": "168342ca",
   "metadata": {},
   "outputs": [],
   "source": [
    "\n",
    "for col in numeric_cols:\n",
    "    df[col] = pd.to_numeric(df[col], errors='coerce')\n",
    "    df[col] = df[col].replace(-99, np.nan)\n",
    "\n",
    "    \n",
    "for col in categorical_cols:\n",
    "    df[col] = df[col].replace('-99', np.nan)\n"
   ]
  },
  {
   "cell_type": "markdown",
   "id": "ed9f30b3",
   "metadata": {},
   "source": [
    "Encode Categorical Columns"
   ]
  },
  {
   "cell_type": "code",
   "execution_count": 121,
   "id": "2d68c1f4",
   "metadata": {},
   "outputs": [],
   "source": [
    "label_encoders = {}\n",
    "for col in categorical_cols:\n",
    "    le = LabelEncoder()\n",
    "    df[col] = le.fit_transform(df[col])\n",
    "    label_encoders[col] = le\n",
    "\n",
    "\n",
    "scaler = StandardScaler()"
   ]
  },
  {
   "cell_type": "markdown",
   "id": "b38c3fd8",
   "metadata": {},
   "source": [
    "Scale numerical Features"
   ]
  },
  {
   "cell_type": "code",
   "execution_count": 122,
   "id": "b3b024c4",
   "metadata": {},
   "outputs": [],
   "source": [
    "\n",
    "scaler = StandardScaler()\n",
    "df[numeric_cols] = scaler.fit_transform(df[numeric_cols])\n"
   ]
  },
  {
   "cell_type": "markdown",
   "id": "90921428",
   "metadata": {},
   "source": [
    "drop all null values"
   ]
  },
  {
   "cell_type": "code",
   "execution_count": 123,
   "id": "3c71256d",
   "metadata": {},
   "outputs": [],
   "source": [
    "df.dropna(inplace=True)"
   ]
  },
  {
   "cell_type": "code",
   "execution_count": null,
   "id": "9579e569",
   "metadata": {},
   "outputs": [
    {
     "name": "stdout",
     "output_type": "stream",
     "text": [
      "Preprocessing complete.\n",
      "Target column: Genetic Disorder\n"
     ]
    }
   ],
   "source": [
    "\n",
    "print(\"Preprocessing complete.\")\n",
    "print(f\"Target column: {target_col}\")"
   ]
  },
  {
   "cell_type": "code",
   "execution_count": 125,
   "id": "d9d1da41",
   "metadata": {},
   "outputs": [
    {
     "name": "stdout",
     "output_type": "stream",
     "text": [
      " Final dataset preview:\n",
      "    Patient Age  Genes in mother's side  Inherited from father  Maternal gene  \\\n",
      "13    -1.596193                       0                      0              0   \n",
      "15    -1.596193                       0                      1              0   \n",
      "16     0.003335                       1                      2              1   \n",
      "37    -0.225169                       1                      2              1   \n",
      "51    -0.453673                       1                      0              1   \n",
      "\n",
      "    Paternal gene  Blood cell count (mcL)  Mother's age  Father's age  Status  \\\n",
      "13              0               -0.174001      1.436300     -1.238467       1   \n",
      "15              0               -1.378692     -0.764292      1.551014       0   \n",
      "16              0               -0.066973     -0.264158      0.621187       1   \n",
      "37              0                0.540989      0.035923     -1.470924       0   \n",
      "51              1               -0.523701     -0.864319      0.001302       0   \n",
      "\n",
      "    Respiratory Rate (breaths/min)  ...  No. of previous abortion  \\\n",
      "13                               1  ...                  0.684690   \n",
      "15                               1  ...                  1.395574   \n",
      "16                               0  ...                  0.684690   \n",
      "37                               2  ...                 -1.447963   \n",
      "51                               1  ...                  1.395574   \n",
      "\n",
      "    Birth defects  White Blood cell count (thousand per microliter)  \\\n",
      "13              1                                          1.671176   \n",
      "15              0                                         -0.308482   \n",
      "16              0                                         -1.391586   \n",
      "37              1                                          0.980339   \n",
      "51              2                                          0.089716   \n",
      "\n",
      "    Blood test result  Symptom 1  Symptom 2  Symptom 3  Symptom 4  Symptom 5  \\\n",
      "13                  2          1          0          1          1          0   \n",
      "15                  3          1          0          1          1          0   \n",
      "16                  1          1          1          1          1          1   \n",
      "37                  2          1          1          0          0          0   \n",
      "51                  4          0          0          0          0          1   \n",
      "\n",
      "    Genetic Disorder  \n",
      "13                 0  \n",
      "15                 1  \n",
      "16                 1  \n",
      "37                 1  \n",
      "51                 1  \n",
      "\n",
      "[5 rows x 38 columns]\n"
     ]
    }
   ],
   "source": [
    "feature_columns = [col for col in df.columns if col != target_col]\n",
    "\n",
    "\n",
    "print(\" Final dataset preview:\")\n",
    "print(df.head())\n"
   ]
  },
  {
   "cell_type": "code",
   "execution_count": 126,
   "id": "68d1cc12",
   "metadata": {},
   "outputs": [
    {
     "data": {
      "image/png": "[encoded data removed]",
      "text/plain": [
       "<Figure size 600x400 with 1 Axes>"
      ]
     },
     "metadata": {},
     "output_type": "display_data"
    },
    {
     "data": {
      "text/plain": [
       "<Figure size 1400x1000 with 0 Axes>"
      ]
     },
     "metadata": {},
     "output_type": "display_data"
    }
   ],
   "source": [
    "import seaborn as sns\n",
    "import matplotlib.pyplot as plt\n",
    "\n",
    "\n",
    "plt.figure(figsize=(6, 4))\n",
    "sns.countplot(data=df, x='Genetic Disorder')  \n",
    "plt.title(\"Distribution of Genetic Disorder Labels\")\n",
    "plt.xlabel(\"Class\")\n",
    "plt.ylabel(\"Count\")\n",
    "plt.show()\n",
    "\n",
    "\n",
    "plt.figure(figsize=(14, 10))\n",
    "numeric_data = df.select_dtypes(include=['float64', 'int64'])\n",
    "correlation_matrix = numeric_data.corr()\n",
    "\n",
    "\n"
   ]
  },
  {
   "cell_type": "code",
   "execution_count": null,
   "id": "bc57b3b3",
   "metadata": {},
   "outputs": [],
   "source": [
    "Random Forest"
   ]
  },
  {
   "cell_type": "code",
   "execution_count": null,
   "id": "1692f835",
   "metadata": {},
   "outputs": [
    {
     "name": "stdout",
     "output_type": "stream",
     "text": [
      "Accuracy : 0.7662\n",
      "Precision: 0.7727\n",
      "Recall   : 0.7662\n",
      "F1‑Score : 0.7606\n"
     ]
    },
    {
     "data": {
      "image/png": "[encoded data removed]",
      "text/plain": [
       "<Figure size 600x600 with 2 Axes>"
      ]
     },
     "metadata": {},
     "output_type": "display_data"
    }
   ],
   "source": [
    "\n",
    "from sklearn.model_selection import train_test_split\n",
    "from sklearn.ensemble import RandomForestClassifier\n",
    "from sklearn.preprocessing import StandardScaler\n",
    "from sklearn.metrics import (\n",
    "    accuracy_score,\n",
    "    precision_score,\n",
    "    recall_score,\n",
    "    f1_score,\n",
    "    classification_report,\n",
    "    confusion_matrix\n",
    ")\n",
    "\n",
    "\n",
    "X = df[feature_columns].values\n",
    "y = df[target_col].values\n",
    "\n",
    "\n",
    "X_train, X_test, y_train, y_test = train_test_split(\n",
    "    X, y,\n",
    "    test_size=0.2,\n",
    "    random_state=42,\n",
    "    stratify=y\n",
    ")\n",
    "\n",
    "\n",
    "\n",
    "\n",
    "rf = RandomForestClassifier(\n",
    "    n_estimators=120,   \n",
    "    max_depth=None,      \n",
    "    min_samples_leaf=60,  \n",
    "    random_state=42,\n",
    "    n_jobs=-1\n",
    ")\n",
    "rf.fit(X_train, y_train)\n",
    "\n",
    "\n",
    "y_pred = rf.predict(X_test)\n",
    "\n",
    "\n",
    "acc  = accuracy_score(y_test, y_pred)\n",
    "prec = precision_score(y_test, y_pred, average='weighted')\n",
    "rec  = recall_score(y_test, y_pred, average='weighted')\n",
    "f1   = f1_score(y_test, y_pred, average='weighted')\n",
    "\n",
    "print(f\"Accuracy : {acc:.4f}\")\n",
    "print(f\"Precision: {prec:.4f}\")\n",
    "print(f\"Recall   : {rec:.4f}\")\n",
    "print(f\"F1‑Score : {f1:.4f}\")\n",
    "\n",
    "\n",
    "\n",
    "\n",
    "cm = confusion_matrix(y_test, y_pred)\n",
    "classes = np.unique(y)\n",
    "plt.figure(figsize=(6,6))\n",
    "plt.imshow(cm, interpolation='nearest', cmap=plt.cm.Blues)\n",
    "plt.title(\"RF Confusion Matrix\")\n",
    "plt.colorbar()\n",
    "tick_marks = np.arange(len(classes))\n",
    "plt.xticks(tick_marks, classes, rotation=45)\n",
    "plt.yticks(tick_marks, classes)\n",
    "thresh = cm.max() / 2\n",
    "for i, j in itertools.product(range(cm.shape[0]), range(cm.shape[1])):\n",
    "    plt.text(j, i, cm[i, j],\n",
    "             horizontalalignment=\"center\",\n",
    "             color=\"white\" if cm[i, j] > thresh else \"black\")\n",
    "plt.ylabel('True label')\n",
    "plt.xlabel('Predicted label')\n",
    "plt.tight_layout()\n",
    "plt.show()\n"
   ]
  },
  {
   "cell_type": "code",
   "execution_count": null,
   "id": "8fb78814",
   "metadata": {},
   "outputs": [],
   "source": [
    "KNN"
   ]
  },
  {
   "cell_type": "code",
   "execution_count": null,
   "id": "512471a8",
   "metadata": {},
   "outputs": [
    {
     "name": "stdout",
     "output_type": "stream",
     "text": [
      "Accuracy : 0.8052\n",
      "Precision: 0.8133\n",
      "Recall   : 0.8052\n",
      "F1‑Score : 0.8059\n"
     ]
    },
    {
     "data": {
      "image/png": "[encoded data removed]",
      "text/plain": [
       "<Figure size 600x600 with 2 Axes>"
      ]
     },
     "metadata": {},
     "output_type": "display_data"
    }
   ],
   "source": [
    "from sklearn.model_selection import train_test_split\n",
    "from sklearn.preprocessing import StandardScaler\n",
    "from sklearn.neighbors import KNeighborsClassifier\n",
    "from sklearn.metrics import (\n",
    "    accuracy_score,\n",
    "    precision_score,\n",
    "    recall_score,\n",
    "    f1_score,\n",
    "    classification_report,\n",
    "    confusion_matrix\n",
    ")\n",
    "\n",
    "\n",
    "X = df[feature_columns].values\n",
    "y = df[target_col].values\n",
    "\n",
    "\n",
    "X_train, X_test, y_train, y_test = train_test_split(\n",
    "    X, y,\n",
    "    test_size=0.2,\n",
    "    random_state=42,\n",
    "    stratify=y\n",
    ")\n",
    "\n",
    "\n",
    "scaler = StandardScaler()\n",
    "X_train = scaler.fit_transform(X_train)\n",
    "X_test  = scaler.transform(X_test)\n",
    "\n",
    "\n",
    "knn = KNeighborsClassifier(\n",
    "    n_neighbors=10,  \n",
    "    weights='uniform',  \n",
    "    metric='minkowski', \n",
    "    p=2\n",
    ")\n",
    "knn.fit(X_train, y_train)\n",
    "\n",
    "\n",
    "y_pred = knn.predict(X_test)\n",
    "\n",
    "\n",
    "acc  = accuracy_score(y_test, y_pred)\n",
    "prec = precision_score(y_test, y_pred, average='weighted')\n",
    "rec  = recall_score(y_test, y_pred, average='weighted')\n",
    "f1   = f1_score(y_test, y_pred, average='weighted')\n",
    "\n",
    "print(f\"Accuracy : {acc:.4f}\")\n",
    "print(f\"Precision: {prec:.4f}\")\n",
    "print(f\"Recall   : {rec:.4f}\")\n",
    "print(f\"F1‑Score : {f1:.4f}\")\n",
    "\n",
    "\n",
    "\n",
    "cm = confusion_matrix(y_test, y_pred)\n",
    "classes = np.unique(y)\n",
    "plt.figure(figsize=(6,6))\n",
    "plt.imshow(cm, interpolation='nearest', cmap=plt.cm.Blues)\n",
    "plt.title(\"KNN Confusion Matrix\")\n",
    "plt.colorbar()\n",
    "tick_marks = np.arange(len(classes))\n",
    "plt.xticks(tick_marks, classes, rotation=45)\n",
    "plt.yticks(tick_marks, classes)\n",
    "thresh = cm.max() / 2\n",
    "for i, j in itertools.product(range(cm.shape[0]), range(cm.shape[1])):\n",
    "    plt.text(j, i, cm[i, j],\n",
    "             horizontalalignment=\"center\",\n",
    "             color=\"white\" if cm[i, j] > thresh else \"black\")\n",
    "plt.ylabel('True label')\n",
    "plt.xlabel('Predicted label')\n",
    "plt.tight_layout()\n",
    "plt.show()\n"
   ]
  },
  {
   "cell_type": "code",
   "execution_count": null,
   "id": "d1653627",
   "metadata": {},
   "outputs": [],
   "source": [
    "CNN"
   ]
  },
  {
   "cell_type": "code",
   "execution_count": null,
   "id": "2a6f8bd8",
   "metadata": {},
   "outputs": [
    {
     "name": "stdout",
     "output_type": "stream",
     "text": [
      "Epoch 1/10\n"
     ]
    },
    {
     "name": "stderr",
     "output_type": "stream",
     "text": [
      "C:\\Users\\USER\\AppData\\Roaming\\Python\\Python310\\site-packages\\keras\\src\\layers\\convolutional\\base_conv.py:107: UserWarning: Do not pass an `input_shape`/`input_dim` argument to a layer. When using Sequential models, prefer using an `Input(shape)` object as the first layer in the model instead.\n",
      "  super().__init__(activity_regularizer=activity_regularizer, **kwargs)\n"
     ]
    },
    {
     "name": "stdout",
     "output_type": "stream",
     "text": [
      "\u001b[1m10/10\u001b[0m \u001b[32m━━━━━━━━━━━━━━━━━━━━\u001b[0m\u001b[37m\u001b[0m \u001b[1m1s\u001b[0m 4ms/step - accuracy: 0.5173 - loss: 0.6897  \n",
      "Epoch 2/10\n",
      "\u001b[1m10/10\u001b[0m \u001b[32m━━━━━━━━━━━━━━━━━━━━\u001b[0m\u001b[37m\u001b[0m \u001b[1m0s\u001b[0m 3ms/step - accuracy: 0.6888 - loss: 0.6340 \n",
      "Epoch 3/10\n",
      "\u001b[1m10/10\u001b[0m \u001b[32m━━━━━━━━━━━━━━━━━━━━\u001b[0m\u001b[37m\u001b[0m \u001b[1m0s\u001b[0m 3ms/step - accuracy: 0.7432 - loss: 0.6046 \n",
      "Epoch 4/10\n",
      "\u001b[1m10/10\u001b[0m \u001b[32m━━━━━━━━━━━━━━━━━━━━\u001b[0m\u001b[37m\u001b[0m \u001b[1m0s\u001b[0m 3ms/step - accuracy: 0.7094 - loss: 0.5541 \n",
      "Epoch 5/10\n",
      "\u001b[1m10/10\u001b[0m \u001b[32m━━━━━━━━━━━━━━━━━━━━\u001b[0m\u001b[37m\u001b[0m \u001b[1m0s\u001b[0m 3ms/step - accuracy: 0.8047 - loss: 0.5403 \n",
      "Epoch 6/10\n",
      "\u001b[1m10/10\u001b[0m \u001b[32m━━━━━━━━━━━━━━━━━━━━\u001b[0m\u001b[37m\u001b[0m \u001b[1m0s\u001b[0m 3ms/step - accuracy: 0.8312 - loss: 0.4839 \n",
      "Epoch 7/10\n",
      "\u001b[1m10/10\u001b[0m \u001b[32m━━━━━━━━━━━━━━━━━━━━\u001b[0m\u001b[37m\u001b[0m \u001b[1m0s\u001b[0m 3ms/step - accuracy: 0.8352 - loss: 0.4555 \n",
      "Epoch 8/10\n",
      "\u001b[1m10/10\u001b[0m \u001b[32m━━━━━━━━━━━━━━━━━━━━\u001b[0m\u001b[37m\u001b[0m \u001b[1m0s\u001b[0m 3ms/step - accuracy: 0.8336 - loss: 0.4487 \n",
      "Epoch 9/10\n",
      "\u001b[1m10/10\u001b[0m \u001b[32m━━━━━━━━━━━━━━━━━━━━\u001b[0m\u001b[37m\u001b[0m \u001b[1m0s\u001b[0m 3ms/step - accuracy: 0.8428 - loss: 0.3776 \n",
      "Epoch 10/10\n",
      "\u001b[1m10/10\u001b[0m \u001b[32m━━━━━━━━━━━━━━━━━━━━\u001b[0m\u001b[37m\u001b[0m \u001b[1m0s\u001b[0m 3ms/step - accuracy: 0.9086 - loss: 0.3372 \n",
      "\u001b[1m3/3\u001b[0m \u001b[32m━━━━━━━━━━━━━━━━━━━━\u001b[0m\u001b[37m\u001b[0m \u001b[1m0s\u001b[0m 20ms/step\n",
      "1D-CNN → Accuracy: 0.8182, Precision: 0.8187, Recall: 0.8182, F1-Score: 0.8179\n"
     ]
    },
    {
     "data": {
      "image/png": "[encoded data removed]",
      "text/plain": [
       "<Figure size 600x600 with 2 Axes>"
      ]
     },
     "metadata": {},
     "output_type": "display_data"
    }
   ],
   "source": [
    "import numpy as np\n",
    "import matplotlib.pyplot as plt\n",
    "import itertools\n",
    "from sklearn.model_selection import train_test_split\n",
    "from sklearn.metrics import (\n",
    "    accuracy_score, precision_score, recall_score, f1_score,\n",
    "    confusion_matrix\n",
    ")\n",
    "import tensorflow as tf\n",
    "from tensorflow.keras.models import Sequential\n",
    "from tensorflow.keras.layers import Conv1D, MaxPooling1D, Flatten, Dense\n",
    "\n",
    "\n",
    "X = df[feature_columns].astype(np.float32).to_numpy()       \n",
    "y = df[target_col].astype(np.int32).to_numpy()             \n",
    "\n",
    "\n",
    "X_train, X_test, y_train, y_test = train_test_split(\n",
    "    X, y, test_size=0.2, random_state=42\n",
    ")\n",
    "\n",
    "\n",
    "n_features = X_train.shape[1]\n",
    "X_train_cnn = X_train.reshape(-1, n_features, 1)\n",
    "X_test_cnn  = X_test.reshape(-1,  n_features, 1)\n",
    "\n",
    "\n",
    "model = Sequential([\n",
    "    Conv1D(32, kernel_size=3, activation='relu', input_shape=(n_features,1)),\n",
    "    MaxPooling1D(pool_size=2),\n",
    "    Flatten(),\n",
    "    Dense(64, activation='relu'),\n",
    "    Dense(len(np.unique(y)), activation='softmax')\n",
    "])\n",
    "\n",
    "model.compile(\n",
    "    optimizer='adam',\n",
    "    loss='sparse_categorical_crossentropy',\n",
    "    metrics=['accuracy']\n",
    ")\n",
    "\n",
    "\n",
    "model.fit(X_train_cnn, y_train, epochs=10, batch_size=32, verbose=1)\n",
    "\n",
    "\n",
    "y_pred = np.argmax(model.predict(X_test_cnn), axis=1)\n",
    "\n",
    "print(\"1D-CNN →\",\n",
    "      f\"Accuracy: {accuracy_score(y_test,y_pred):.4f},\",\n",
    "      f\"Precision: {precision_score(y_test,y_pred,average='weighted'):.4f},\",\n",
    "      f\"Recall: {recall_score(y_test,y_pred,average='weighted'):.4f},\",\n",
    "      f\"F1-Score: {f1_score(y_test,y_pred,average='weighted'):.4f}\")\n",
    "\n",
    "cm = confusion_matrix(y_test, y_pred)\n",
    "classes = np.unique(y)\n",
    "\n",
    "plt.figure(figsize=(6,6))\n",
    "plt.imshow(cm, interpolation='nearest', cmap=plt.cm.Oranges)\n",
    "plt.title(\"CNN Confusion Matrix\")\n",
    "plt.colorbar()\n",
    "ticks = np.arange(len(classes))\n",
    "plt.xticks(ticks, classes, rotation=45)\n",
    "plt.yticks(ticks, classes)\n",
    "\n",
    "thresh = cm.max() / 2\n",
    "for i, j in itertools.product(range(cm.shape[0]), range(cm.shape[1])):\n",
    "    plt.text(j, i, cm[i, j],\n",
    "             ha='center',\n",
    "             color='white' if cm[i, j] > thresh else 'black')\n",
    "\n",
    "plt.ylabel('True label')\n",
    "plt.xlabel('Predicted label')\n",
    "plt.tight_layout()\n",
    "plt.show()\n"
   ]
  },
  {
   "cell_type": "code",
   "execution_count": null,
   "id": "30aa54ae",
   "metadata": {},
   "outputs": [],
   "source": [
    "GRAPH NEURAL NETWORK"
   ]
  },
  {
   "cell_type": "code",
   "execution_count": null,
   "id": "3fa1f523",
   "metadata": {},
   "outputs": [
    {
     "name": "stdout",
     "output_type": "stream",
     "text": [
      "Epoch 0050 | Loss 0.3638 | Val Acc 0.8052\n",
      "Epoch 0100 | Loss 0.1289 | Val Acc 0.8571\n",
      "Epoch 0150 | Loss 0.0457 | Val Acc 0.8571\n",
      "Epoch 0200 | Loss 0.0742 | Val Acc 0.8701\n",
      "Epoch 0250 | Loss 0.0496 | Val Acc 0.8442\n",
      "Epoch 0300 | Loss 0.0228 | Val Acc 0.8571\n",
      "Epoch 0350 | Loss 0.0245 | Val Acc 0.8571\n",
      "Epoch 0400 | Loss 0.0130 | Val Acc 0.8571\n",
      "Epoch 0450 | Loss 0.0160 | Val Acc 0.8701\n",
      "Epoch 0500 | Loss 0.0201 | Val Acc 0.8442\n",
      "Epoch 0550 | Loss 0.0117 | Val Acc 0.8442\n",
      "Epoch 0600 | Loss 0.0157 | Val Acc 0.8442\n",
      "Epoch 0650 | Loss 0.0170 | Val Acc 0.8442\n",
      "Epoch 0700 | Loss 0.0082 | Val Acc 0.8571\n",
      "Epoch 0750 | Loss 0.0260 | Val Acc 0.8571\n",
      "Epoch 0800 | Loss 0.0145 | Val Acc 0.8571\n",
      "Epoch 0850 | Loss 0.0184 | Val Acc 0.8571\n",
      "Epoch 0900 | Loss 0.0192 | Val Acc 0.8571\n",
      "Epoch 0950 | Loss 0.0304 | Val Acc 0.8571\n",
      "Epoch 1000 | Loss 0.0136 | Val Acc 0.8571\n",
      "\n",
      "GNN model final results\n",
      "Accuracy : 0.8571\n",
      "Precision: 0.8612\n",
      "Recall   : 0.8571\n",
      "F1‐score : 0.8554\n",
      "\n"
     ]
    },
    {
     "data": {
      "image/png": "[encoded data removed]",
      "text/plain": [
       "<Figure size 500x400 with 2 Axes>"
      ]
     },
     "metadata": {},
     "output_type": "display_data"
    }
   ],
   "source": [
    "import pandas as pd\n",
    "import numpy as np\n",
    "import torch\n",
    "import torch.nn.functional as F\n",
    "from torch.nn import Linear\n",
    "from torch_geometric.data import Data\n",
    "from torch_geometric.nn import SAGEConv\n",
    "from torch_geometric.utils import add_self_loops\n",
    "from sklearn.metrics import (\n",
    "    accuracy_score, precision_score, recall_score,\n",
    "    f1_score, confusion_matrix, classification_report\n",
    ")\n",
    "from sklearn.model_selection import train_test_split\n",
    "from sklearn.preprocessing import LabelEncoder, StandardScaler\n",
    "from sklearn.utils.class_weight import compute_class_weight\n",
    "from sklearn.neighbors import kneighbors_graph\n",
    "import matplotlib.pyplot as plt\n",
    "import seaborn as sns\n",
    "\n",
    "\n",
    "df = pd.read_csv(\"dataset.csv\")\n",
    "drop_cols = [\n",
    "    'Patient Id','Patient First Name','Family Name',\"Father's name\",\n",
    "    'Institute Name','Location of Institute','Genetic Disorder Name'\n",
    "]\n",
    "df.drop(columns=[c for c in drop_cols if c in df.columns], inplace=True)\n",
    "df.replace(['-99', -99], np.nan, inplace=True)\n",
    "\n",
    "for col in df.select_dtypes(include='object').columns:\n",
    "    df[col] = LabelEncoder().fit_transform(df[col].astype(str))\n",
    "df.dropna(inplace=True)\n",
    "\n",
    "num_cols = df.select_dtypes(include=['int64','float64']).columns.drop('Genetic Disorder')\n",
    "df[num_cols] = StandardScaler().fit_transform(df[num_cols])\n",
    "\n",
    "X = df.drop('Genetic Disorder', axis=1).values\n",
    "y = df['Genetic Disorder'].values\n",
    "\n",
    "\n",
    "classes = np.unique(y)\n",
    "cw = compute_class_weight('balanced', classes=classes, y=y)\n",
    "class_weight = torch.tensor([cw[list(classes).index(c)] for c in classes], dtype=torch.float)\n",
    "\n",
    "\n",
    "A = kneighbors_graph(X, n_neighbors=2, include_self=False)\n",
    "edge_index = torch.tensor(np.vstack(A.nonzero()), dtype=torch.long)\n",
    "edge_index, _ = add_self_loops(edge_index, num_nodes=X.shape[0])\n",
    "\n",
    "\n",
    "x = torch.tensor(X, dtype=torch.float)\n",
    "y_t = torch.tensor(y, dtype=torch.long)\n",
    "data = Data(x=x, edge_index=edge_index, y=y_t)\n",
    "\n",
    "idx = np.arange(len(y))\n",
    "train_idx, test_idx = train_test_split(idx, test_size=0.2, stratify=y, random_state=42)\n",
    "mask = lambda arr: torch.tensor(arr, dtype=torch.bool)\n",
    "data.train_mask = mask([i in train_idx for i in idx])\n",
    "data.test_mask  = mask([i in test_idx  for i in idx])\n",
    "\n",
    "\n",
    "class SageNet(torch.nn.Module):\n",
    "    def __init__(self, in_dim, hid_dim, out_dim):\n",
    "        super().__init__()\n",
    "        self.s1 = SAGEConv(in_dim, hid_dim)\n",
    "        self.s2 = SAGEConv(hid_dim, hid_dim)\n",
    "        self.s3 = SAGEConv(hid_dim, out_dim)\n",
    "\n",
    "    def forward(self, data):\n",
    "        x, edge_index = data.x, data.edge_index\n",
    "        x = F.relu(self.s1(x, edge_index))\n",
    "        x = F.dropout(x, p=0.7, training=self.training)\n",
    "        x = F.relu(self.s2(x, edge_index))\n",
    "        x = F.dropout(x, p=0.7, training=self.training)\n",
    "        x = self.s3(x, edge_index)\n",
    "        return x\n",
    "\n",
    "device = torch.device('cuda' if torch.cuda.is_available() else 'cpu')\n",
    "model = SageNet(\n",
    "    in_dim = x.shape[1],\n",
    "    hid_dim=128,\n",
    "    out_dim=len(classes)\n",
    ").to(device)\n",
    "data = data.to(device)\n",
    "criterion = torch.nn.CrossEntropyLoss(weight=class_weight.to(device))\n",
    "optimizer = torch.optim.Adam(model.parameters(), lr=0.005, weight_decay=5e-4)\n",
    "scheduler = torch.optim.lr_scheduler.StepLR(optimizer, step_size=100, gamma=0.5)\n",
    "\n",
    "max_epochs = 1000\n",
    "for epoch in range(1, max_epochs + 1):\n",
    "    model.train()\n",
    "    optimizer.zero_grad()\n",
    "    out = model(data)\n",
    "    loss = criterion(out[data.train_mask], data.y[data.train_mask])\n",
    "    loss.backward()\n",
    "    optimizer.step()\n",
    "    scheduler.step()\n",
    "\n",
    "    if epoch % 50 == 0:\n",
    "        model.eval()\n",
    "        with torch.no_grad():\n",
    "            logits = model(data)[data.test_mask]\n",
    "            preds = logits.argmax(dim=1).cpu().numpy()\n",
    "            truth = data.y[data.test_mask].cpu().numpy()\n",
    "            acc = accuracy_score(truth, preds)\n",
    "        print(f\"Epoch {epoch:04d} | Loss {loss:.4f} | Val Acc {acc:.4f}\")\n",
    "\n",
    "\n",
    "model.eval()\n",
    "with torch.no_grad():\n",
    "    logits = model(data)[data.test_mask]\n",
    "    preds = logits.argmax(dim=1).cpu().numpy()\n",
    "    truth = data.y[data.test_mask].cpu().numpy()\n",
    "\n",
    "print(\"\\nGNN model final results\")\n",
    "print(f\"Accuracy : {accuracy_score(truth, preds):.4f}\")\n",
    "print(f\"Precision: {precision_score(truth, preds, average='weighted'):.4f}\")\n",
    "print(f\"Recall   : {recall_score(truth, preds, average='weighted'):.4f}\")\n",
    "print(f\"F1‐score : {f1_score(truth, preds, average='weighted'):.4f}\\n\")\n",
    "\n",
    "\n",
    "cm = confusion_matrix(truth, preds)\n",
    "plt.figure(figsize=(5,4))\n",
    "sns.heatmap(cm, annot=True, fmt='d', cmap='Blues')\n",
    "plt.title(\"GNN Confusion Matrix\")\n",
    "plt.xlabel(\"Predicted\")\n",
    "plt.ylabel(\"True\")\n",
    "plt.tight_layout()\n",
    "plt.show()\n"
   ]
  }
 ],
 "metadata": {
  "kernelspec": {
   "display_name": "Python 3",
   "language": "python",
   "name": "python3"
  },
  "language_info": {
   "codemirror_mode": {
    "name": "ipython",
    "version": 3
   },
   "file_extension": ".py",
   "mimetype": "text/x-python",
   "name": "python",
   "nbconvert_exporter": "python",
   "pygments_lexer": "ipython3",
   "version": "3.10.10"
  }
 },
 "nbformat": 4,
 "nbformat_minor": 5
}
