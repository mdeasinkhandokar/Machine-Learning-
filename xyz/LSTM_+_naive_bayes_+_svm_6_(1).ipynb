{
  "cells": [
    {
      "cell_type": "code",
      "execution_count": null,
      "metadata": {
        "colab": {
          "base_uri": "https://localhost:8080/",
          "height": 363
        },
        "id": "SGbYS8EnkLuY",
        "outputId": "607da15f-73c3-433f-bd6c-a8b4538d869d"
      },
      "outputs": [
        {
          "data": {
            "text/html": [
              "<div>\n",
              "<style scoped>\n",
              "    .dataframe tbody tr th:only-of-type {\n",
              "        vertical-align: middle;\n",
              "    }\n",
              "\n",
              "    .dataframe tbody tr th {\n",
              "        vertical-align: top;\n",
              "    }\n",
              "\n",
              "    .dataframe thead th {\n",
              "        text-align: right;\n",
              "    }\n",
              "</style>\n",
              "<table border=\"1\" class=\"dataframe\">\n",
              "  <thead>\n",
              "    <tr style=\"text-align: right;\">\n",
              "      <th></th>\n",
              "      <th>label</th>\n",
              "      <th>Text</th>\n",
              "    </tr>\n",
              "  </thead>\n",
              "  <tbody>\n",
              "    <tr>\n",
              "      <th>0</th>\n",
              "      <td>1</td>\n",
              "      <td>Keep the BGT tweets coming... for us in the US...</td>\n",
              "    </tr>\n",
              "    <tr>\n",
              "      <th>1</th>\n",
              "      <td>1</td>\n",
              "      <td>@mp3mad  We did.  Young one had to go to bed w...</td>\n",
              "    </tr>\n",
              "    <tr>\n",
              "      <th>2</th>\n",
              "      <td>1</td>\n",
              "      <td>http://is.gd/LpF9 any clickdensity users aroun...</td>\n",
              "    </tr>\n",
              "    <tr>\n",
              "      <th>3</th>\n",
              "      <td>0</td>\n",
              "      <td>gonna knit a felted heart toy for mum for Moth...</td>\n",
              "    </tr>\n",
              "    <tr>\n",
              "      <th>4</th>\n",
              "      <td>1</td>\n",
              "      <td>@DarkPiano LOREN, emergency, this is lizrose. ...</td>\n",
              "    </tr>\n",
              "    <tr>\n",
              "      <th>5</th>\n",
              "      <td>1</td>\n",
              "      <td>@jsi5 http://twitpic.com/7rrf7 - Looks like an...</td>\n",
              "    </tr>\n",
              "    <tr>\n",
              "      <th>6</th>\n",
              "      <td>0</td>\n",
              "      <td>@DQJ Thanks!</td>\n",
              "    </tr>\n",
              "    <tr>\n",
              "      <th>7</th>\n",
              "      <td>0</td>\n",
              "      <td>@saturnboy good job!  So pretty</td>\n",
              "    </tr>\n",
              "    <tr>\n",
              "      <th>8</th>\n",
              "      <td>0</td>\n",
              "      <td>@patembe Thanks for you translation, I will ad...</td>\n",
              "    </tr>\n",
              "    <tr>\n",
              "      <th>9</th>\n",
              "      <td>1</td>\n",
              "      <td>today its another day and i will be ready for ...</td>\n",
              "    </tr>\n",
              "  </tbody>\n",
              "</table>\n",
              "</div>"
            ],
            "text/plain": [
              "   label                                               Text\n",
              "0      1  Keep the BGT tweets coming... for us in the US...\n",
              "1      1  @mp3mad  We did.  Young one had to go to bed w...\n",
              "2      1  http://is.gd/LpF9 any clickdensity users aroun...\n",
              "3      0  gonna knit a felted heart toy for mum for Moth...\n",
              "4      1  @DarkPiano LOREN, emergency, this is lizrose. ...\n",
              "5      1  @jsi5 http://twitpic.com/7rrf7 - Looks like an...\n",
              "6      0                                      @DQJ Thanks! \n",
              "7      0                   @saturnboy good job!  So pretty \n",
              "8      0  @patembe Thanks for you translation, I will ad...\n",
              "9      1  today its another day and i will be ready for ..."
            ]
          },
          "execution_count": 1,
          "metadata": {},
          "output_type": "execute_result"
        }
      ],
      "source": [
        "import pandas as pd\n",
        "import numpy as np\n",
        "import matplotlib.pyplot as plt\n",
        "import seaborn as sns\n",
        "#READ DATA\n",
        "data = pd.read_csv(\"dataset.csv\", encoding='ISO-8859-1')\n",
        "\n",
        "data.head(10)"
      ]
    },
    {
      "cell_type": "code",
      "execution_count": null,
      "metadata": {
        "id": "YuuTLGDU9HOl"
      },
      "outputs": [],
      "source": [
        "sample_data = data.sample(150000,replace=True, random_state=1)\n",
        "X = sample_data['Text']\n",
        "y = sample_data['label']"
      ]
    },
    {
      "cell_type": "code",
      "execution_count": null,
      "metadata": {
        "id": "VrkStg-uk7fX"
      },
      "outputs": [],
      "source": [
        "from sklearn.feature_extraction.text import TfidfVectorizer\n",
        "from sklearn.model_selection import train_test_split\n",
        "from sklearn.linear_model import LogisticRegressionCV\n",
        "from sklearn import metrics\n",
        "import nltk\n",
        "from nltk.corpus import stopwords\n",
        "import string\n",
        "import re"
      ]
    },
    {
      "cell_type": "code",
      "execution_count": null,
      "metadata": {
        "colab": {
          "base_uri": "https://localhost:8080/"
        },
        "id": "UMIqepKQUSK0",
        "outputId": "8c99ec8d-96a5-4c18-ad6d-4420a4fa65d0"
      },
      "outputs": [
        {
          "name": "stderr",
          "output_type": "stream",
          "text": [
            "[nltk_data] Downloading package stopwords to\n",
            "[nltk_data]     C:\\Users\\USER\\AppData\\Roaming\\nltk_data...\n",
            "[nltk_data]   Package stopwords is already up-to-date!\n"
          ]
        }
      ],
      "source": [
        "nltk.download('stopwords')\n",
        "from nltk.corpus import stopwords\n",
        "stop_words = set(stopwords.words('english'))"
      ]
    },
    {
      "cell_type": "code",
      "execution_count": null,
      "metadata": {
        "id": "IB3BJCId9HOr"
      },
      "outputs": [],
      "source": [
        "import nltk\n",
        "nltk.data.path.append(\"C:/Users/Asus/nltk_data\")  # Update the path if you’ve placed nltk_data elsewhere\n"
      ]
    },
    {
      "cell_type": "code",
      "execution_count": null,
      "metadata": {
        "id": "vB7xLLwh9HOs",
        "outputId": "ec8d343c-4eac-4394-a4de-84b22ae9f958"
      },
      "outputs": [
        {
          "name": "stderr",
          "output_type": "stream",
          "text": [
            "[nltk_data] Downloading package punkt to\n",
            "[nltk_data]     C:\\Users\\USER\\AppData\\Roaming\\nltk_data...\n",
            "[nltk_data]   Package punkt is already up-to-date!\n",
            "[nltk_data] Downloading package stopwords to\n",
            "[nltk_data]     C:\\Users\\USER\\AppData\\Roaming\\nltk_data...\n",
            "[nltk_data]   Package stopwords is already up-to-date!\n",
            "[nltk_data] Downloading package averaged_perceptron_tagger to\n",
            "[nltk_data]     C:\\Users\\USER\\AppData\\Roaming\\nltk_data...\n",
            "[nltk_data]   Package averaged_perceptron_tagger is already up-to-\n",
            "[nltk_data]       date!\n",
            "[nltk_data] Downloading package wordnet to\n",
            "[nltk_data]     C:\\Users\\USER\\AppData\\Roaming\\nltk_data...\n",
            "[nltk_data]   Package wordnet is already up-to-date!\n"
          ]
        },
        {
          "data": {
            "text/plain": [
              "True"
            ]
          },
          "execution_count": 5,
          "metadata": {},
          "output_type": "execute_result"
        }
      ],
      "source": [
        "import nltk\n",
        "nltk.download('punkt')\n",
        "nltk.download('stopwords')\n",
        "nltk.download('averaged_perceptron_tagger')\n",
        "nltk.download('wordnet')\n"
      ]
    },
    {
      "cell_type": "code",
      "execution_count": null,
      "metadata": {
        "id": "t2Id6aij9HOu",
        "outputId": "26481ec1-075a-4248-a092-ff55427bbdcd"
      },
      "outputs": [
        {
          "name": "stderr",
          "output_type": "stream",
          "text": [
            "[nltk_data] Downloading package punkt to\n",
            "[nltk_data]     C:\\Users\\USER\\AppData\\Roaming\\nltk_data...\n",
            "[nltk_data]   Package punkt is already up-to-date!\n",
            "[nltk_data] Downloading package stopwords to\n",
            "[nltk_data]     C:\\Users\\USER\\AppData\\Roaming\\nltk_data...\n",
            "[nltk_data]   Package stopwords is already up-to-date!\n",
            "[nltk_data] Downloading package averaged_perceptron_tagger to\n",
            "[nltk_data]     C:\\Users\\USER\\AppData\\Roaming\\nltk_data...\n",
            "[nltk_data]   Package averaged_perceptron_tagger is already up-to-\n",
            "[nltk_data]       date!\n",
            "[nltk_data] Downloading package wordnet to\n",
            "[nltk_data]     C:\\Users\\USER\\AppData\\Roaming\\nltk_data...\n",
            "[nltk_data]   Package wordnet is already up-to-date!\n"
          ]
        },
        {
          "name": "stdout",
          "output_type": "stream",
          "text": [
            "Most common POS tags in negative words:\n",
            "[('NN', 202427), ('JJ', 71356), ('VB', 37394), ('NNS', 36678), ('VBP', 28933), ('VBG', 27313), ('VBD', 20823), ('RB', 19400), ('VBN', 14375), ('VBZ', 9592)]\n",
            "    label                                               Text  \\\n",
            "0       1  Keep the BGT tweets coming... for us in the US...   \n",
            "1       1  @mp3mad  We did.  Young one had to go to bed w...   \n",
            "2       1  http://is.gd/LpF9 any clickdensity users aroun...   \n",
            "3       0  gonna knit a felted heart toy for mum for Moth...   \n",
            "4       1  @DarkPiano LOREN, emergency, this is lizrose. ...   \n",
            "5       1  @jsi5 http://twitpic.com/7rrf7 - Looks like an...   \n",
            "6       0                                      @DQJ Thanks!    \n",
            "7       0                   @saturnboy good job!  So pretty    \n",
            "8       0  @patembe Thanks for you translation, I will ad...   \n",
            "9       1  today its another day and i will be ready for ...   \n",
            "10      0  @Sharonyy Haha your right  I haven't even thou...   \n",
            "11      1       @mitchelmusso u will recurring HM season 4.    \n",
            "12      0        @Carlitosway89 Have fun and get save to LA    \n",
            "13      1  Made the mistake of checking my work to do lis...   \n",
            "14      1  @neonbug hope you feel better  I think everyon...   \n",
            "15      0  @creativeapps Some of them do look awesome - c...   \n",
            "16      0                                @KavithaV Congrats    \n",
            "17      0                 graduation today  i'm in the choir   \n",
            "18      1  @solangeknowles sad to hear the Air France air...   \n",
            "19      1  @cm_sher I wish I could track down a English a...   \n",
            "\n",
            "                                     Cleaned_Text_POS  \\\n",
            "0   [(bgt, JJ), (tweet, NNS), (come, VBG), (watch,...   \n",
            "1   [(young, JJ), (bed, VB), (tooth, NN), (attach,...   \n",
            "2   [(clickdensity, NN), (user, NNS), (website, JJ...   \n",
            "3   [(gon, NN), (na, TO), (knit, VB), (felted, JJ)...   \n",
            "4   [(loren, JJ), (emergency, NN), (lizrose, JJ), ...   \n",
            "5   [(look, NNS), (spider, NN), (bitei, NN), (happ...   \n",
            "6                                     [(thanks, NNS)]   \n",
            "7               [(good, JJ), (job, NN), (pretty, JJ)]   \n",
            "8   [(thanks, NNS), (translation, VBP), (add, VB),...   \n",
            "9   [(today, NN), (day, NN), (ready, JJ), (whatis,...   \n",
            "10  [(haha, VB), (right, NN), (havent, VBD), (thin...   \n",
            "11    [(u, NN), (recur, VBG), (hm, NN), (season, NN)]   \n",
            "12                  [(fun, NN), (save, VB), (la, VB)]   \n",
            "13  [(mistake, NN), (check, VBG), (work, NN), (lis...   \n",
            "14  [(hope, NN), (feel, VBP), (well, RB), (think, ...   \n",
            "15  [(look, VB), (awesome, VB), (consider, VBG), (...   \n",
            "16                                  [(congrats, NNS)]   \n",
            "17  [(graduation, NN), (today, NN), (im, VBP), (ch...   \n",
            "18  [(sad, NN), (hear, VB), (air, NN), (france, NN...   \n",
            "19  [(wish, VBP), (track, VB), (english, JJ), (aud...   \n",
            "\n",
            "                                         Cleaned_Text  \n",
            "0                                bgt tweet come watch  \n",
            "1   young bed tooth attach maybe tomorrow catch to...  \n",
            "2            clickdensity user website look ugly sure  \n",
            "3   gon na knit felted heart toy mum mother day sh...  \n",
            "4   loren emergency lizrose account suspend dont know  \n",
            "5       look spider bitei happen elbow itchiest thing  \n",
            "6                                              thanks  \n",
            "7                                     good job pretty  \n",
            "8             thanks translation add lanugage version  \n",
            "9               today day ready whatis lonely painful  \n",
            "10                         haha right havent think xd  \n",
            "11                                  u recur hm season  \n",
            "12                                        fun save la  \n",
            "13  mistake check work list itis look unlikely iwi...  \n",
            "14  hope feel well think get sick postthesis itis ...  \n",
            "15             look awesome consider pick iphone case  \n",
            "16                                           congrats  \n",
            "17                          graduation today im choir  \n",
            "18  sad hear air france airbus crash atlantic thou...  \n",
            "19  wish track english audio version mid savage ni...  \n"
          ]
        }
      ],
      "source": [
        "import re\n",
        "import string\n",
        "import nltk\n",
        "import spacy\n",
        "import pandas as pd\n",
        "from nltk.corpus import stopwords\n",
        "from nltk import pos_tag, word_tokenize\n",
        "from nltk.stem import WordNetLemmatizer\n",
        "from spacy.lang.en.stop_words import STOP_WORDS as spacy_stopwords\n",
        "from collections import Counter\n",
        "\n",
        "# Download necessary NLTK datasets\n",
        "nltk.download('punkt')\n",
        "nltk.download('stopwords')\n",
        "nltk.download('averaged_perceptron_tagger')\n",
        "nltk.download('wordnet')\n",
        "\n",
        "# Initialize lemmatizer\n",
        "lemmatizer = WordNetLemmatizer()\n",
        "\n",
        "# Stopwords set (combining NLTK and spaCy stopwords)\n",
        "stop_words = frozenset(stopwords.words('english')).union(spacy_stopwords)\n",
        "\n",
        "# Dictionary of contractions and their expanded forms\n",
        "abbreviation_map = {\n",
        "    \"isn't\": \"is not\", \"aren't\": \"are not\", \"can't\": \"cannot\",\n",
        "    \"couldn't\": \"could not\", \"don't\": \"do not\", \"doesn't\": \"does not\",\n",
        "    \"n't\": \"not\", \"'re\": \"are\", \"'ve\": \"have\", \"'ll\": \"will\",\n",
        "    \"'d\": \"would\", \"'s\": \"is\"\n",
        "}\n",
        "\n",
        "# Enhanced data cleaning function\n",
        "def clean_text(text):\n",
        "    # Convert to lowercase and handle abbreviations\n",
        "    text = text.lower()\n",
        "    for short_form, full_form in abbreviation_map.items():\n",
        "        text = re.sub(rf\"\\b{re.escape(short_form)}\\b\", full_form, text)\n",
        "\n",
        "    # Combine all regex replacements into a single call\n",
        "    text = re.sub(\n",
        "        r'http\\S+|www\\S+|https\\S+|'        # URLs\n",
        "        r'\\b\\w+@\\w+\\.\\w+\\b|'               # Emails\n",
        "        r'@\\w+|#\\w+|'                      # Hashtags and mentions\n",
        "        r'\\d+|'                            # Digits\n",
        "        r'[^\\x00-\\x7F]+|'                  # Non-English symbols\n",
        "        r'\\s+', ' ',                       # Excessive whitespace\n",
        "        text\n",
        "    )\n",
        "\n",
        "    # Remove punctuation and trim whitespace\n",
        "    return text.translate(str.maketrans('', '', string.punctuation)).strip()\n",
        "\n",
        "# Tokenize, lemmatize, and filter by POS and stopwords in one step\n",
        "def process_and_filter_text(text):\n",
        "    tokens = word_tokenize(text)\n",
        "    pos_tagged = pos_tag(tokens)\n",
        "    filtered_words = []\n",
        "\n",
        "    for word, tag in pos_tagged:\n",
        "        # Exclude stopwords and unwanted POS tags (e.g., prepositions and conjunctions)\n",
        "        if word in stop_words or tag in {'IN', 'CC'}:\n",
        "            continue\n",
        "\n",
        "        # Determine POS and lemmatize accordingly\n",
        "        if tag.startswith('NN'):\n",
        "            lemma = lemmatizer.lemmatize(word, pos='n')\n",
        "        elif tag.startswith('VB'):\n",
        "            lemma = lemmatizer.lemmatize(word, pos='v')\n",
        "        elif tag.startswith('JJ'):\n",
        "            lemma = lemmatizer.lemmatize(word, pos='a')\n",
        "        elif tag.startswith('RB'):\n",
        "            lemma = lemmatizer.lemmatize(word, pos='r')\n",
        "        else:\n",
        "            lemma = lemmatizer.lemmatize(word)\n",
        "\n",
        "        filtered_words.append((lemma, tag))  # Append word with POS tag if it passes all filters\n",
        "\n",
        "    return filtered_words\n",
        "\n",
        "# Full data cleaning and preprocessing pipeline\n",
        "def preprocess_data(text):\n",
        "    cleaned_text = clean_text(text)\n",
        "    return process_and_filter_text(cleaned_text)\n",
        "\n",
        "# Apply the preprocessing function to the dataset\n",
        "data = pd.read_csv(\"dataset.csv\", encoding='ISO-8859-1')\n",
        "data['Cleaned_Text_POS'] = data['Text'].apply(preprocess_data)\n",
        "\n",
        "# Filter negative samples and analyze POS tags\n",
        "negative_data = data[data['label'] == 1]\n",
        "\n",
        "# Collect POS tags of words in negative texts\n",
        "pos_tags_negative = Counter()\n",
        "for row in negative_data['Cleaned_Text_POS']:\n",
        "    pos_tags_negative.update(tag for _, tag in row)\n",
        "\n",
        "# Display the most common POS tags associated with negative words\n",
        "print(\"Most common POS tags in negative words:\")\n",
        "print(pos_tags_negative.most_common(10))\n",
        "\n",
        "# Remove the POS tags to retain only the cleaned text for other uses\n",
        "data['Cleaned_Text'] = data['Cleaned_Text_POS'].apply(lambda x: ' '.join(word for word, _ in x))\n",
        "\n",
        "# Display the first 20 rows of the cleaned dataset with POS analysis\n",
        "print(data.head(20))\n"
      ]
    },
    {
      "cell_type": "code",
      "execution_count": null,
      "metadata": {
        "id": "v8zMm5Nf9HOx",
        "outputId": "903fc8f6-ccc5-48a4-f2a0-6f8ae3579106"
      },
      "outputs": [
        {
          "name": "stdout",
          "output_type": "stream",
          "text": [
            "Most common POS tags in negative words:\n",
            "NN: 202427\n",
            "JJ: 71356\n",
            "VB: 37394\n",
            "NNS: 36678\n",
            "VBP: 28933\n",
            "VBG: 27313\n",
            "VBD: 20823\n",
            "RB: 19400\n",
            "VBN: 14375\n",
            "VBZ: 9592\n",
            "CSV file saved as pos_tags_negative_words.csv\n"
          ]
        },
        {
          "data": {
            "image/png": "[encoded data removed]",
            "text/plain": [
              "<Figure size 1000x600 with 1 Axes>"
            ]
          },
          "metadata": {},
          "output_type": "display_data"
        }
      ],
      "source": [
        "import pandas as pd\n",
        "from collections import Counter\n",
        "import matplotlib.pyplot as plt\n",
        "\n",
        "# Assuming `negative_data` is already defined and contains rows with 'label' == 1\n",
        "# and `Cleaned_Text_POS` is a list of tuples [(word, POS_tag), ...]\n",
        "\n",
        "# Collect POS tags from negative samples\n",
        "pos_tags_negative = Counter()\n",
        "for row in negative_data['Cleaned_Text_POS']:\n",
        "    pos_tags_negative.update(tag for _, tag in row)\n",
        "\n",
        "# Display the most common POS tags with their counts\n",
        "print(\"Most common POS tags in negative words:\")\n",
        "for tag, count in pos_tags_negative.most_common(10):\n",
        "    print(f\"{tag}: {count}\")\n",
        "\n",
        "# Convert to DataFrame for easier plotting and saving\n",
        "pos_tag_df = pd.DataFrame(pos_tags_negative.most_common(10), columns=['POS_Tag', 'Count'])\n",
        "\n",
        "# Save the DataFrame to a CSV file\n",
        "pos_tag_df.to_csv(\"pos_tags_negative_words.csv\", index=False)\n",
        "print(\"CSV file saved as pos_tags_negative_words.csv\")\n",
        "\n",
        "# Plotting the POS tag distribution for negative words\n",
        "plt.figure(figsize=(10, 6))\n",
        "plt.bar(pos_tag_df['POS_Tag'], pos_tag_df['Count'], color='skyblue')\n",
        "plt.xlabel(\"POS Tags\")\n",
        "plt.ylabel(\"Frequency\")\n",
        "plt.title(\"Top 10 Most Common POS Tags in Negative Words\")\n",
        "plt.xticks(rotation=45)\n",
        "plt.show()\n"
      ]
    },
    {
      "cell_type": "code",
      "execution_count": null,
      "metadata": {
        "colab": {
          "base_uri": "https://localhost:8080/",
          "height": 474
        },
        "id": "xMj_METtlv8_",
        "outputId": "e806e9ba-0fcf-48f1-cbab-4b37cb5b9c27"
      },
      "outputs": [
        {
          "data": {
            "text/plain": [
              "<Axes: xlabel='label'>"
            ]
          },
          "execution_count": 7,
          "metadata": {},
          "output_type": "execute_result"
        },
        {
          "data": {
            "image/png": "[encoded data removed]",
            "text/plain": [
              "<Figure size 640x480 with 1 Axes>"
            ]
          },
          "metadata": {},
          "output_type": "display_data"
        }
      ],
      "source": [
        "sample_data['label'].value_counts().plot(kind='bar')"
      ]
    },
    {
      "cell_type": "code",
      "execution_count": null,
      "metadata": {
        "colab": {
          "base_uri": "https://localhost:8080/",
          "height": 538
        },
        "id": "t32PFqrFl2A0",
        "outputId": "fd7a2112-cc08-4207-b6a9-c89a21629e5b"
      },
      "outputs": [
        {
          "data": {
            "text/plain": [
              "Text(0.5, 1.0, 'label distribution')"
            ]
          },
          "execution_count": 8,
          "metadata": {},
          "output_type": "execute_result"
        },
        {
          "data": {
            "image/png": "[encoded data removed]",
            "text/plain": [
              "<Figure size 1000x600 with 1 Axes>"
            ]
          },
          "metadata": {},
          "output_type": "display_data"
        }
      ],
      "source": [
        "plt.figure(figsize=(10,6))\n",
        "colors = ['green', 'orange']\n",
        "sample_data['label'].value_counts().plot(kind='pie', autopct='%.1f%%',shadow = True,colors = colors,startangle = 45,\n",
        "                 explode=(0, 0.1))\n",
        "plt.title('label distribution')"
      ]
    },
    {
      "cell_type": "code",
      "execution_count": null,
      "metadata": {
        "id": "mg5dSUlTl30U"
      },
      "outputs": [],
      "source": [
        "import numpy as np\n",
        "import pandas as pd\n",
        "from tensorflow.keras.preprocessing.text import Tokenizer\n",
        "from tensorflow.keras.preprocessing.sequence import pad_sequences\n",
        "from tensorflow.keras.models import Sequential\n",
        "from tensorflow.keras.layers import Embedding, LSTM, Dense, Dropout\n",
        "from tensorflow.keras.optimizers import Adam\n",
        "from sklearn.model_selection import train_test_split\n",
        "from sklearn.preprocessing import LabelEncoder\n",
        "from sklearn.metrics import accuracy_score"
      ]
    },
    {
      "cell_type": "code",
      "execution_count": null,
      "metadata": {
        "id": "ZlDFbvjf9HO4"
      },
      "outputs": [],
      "source": [
        "LSTM"
      ]
    },
    {
      "cell_type": "code",
      "execution_count": null,
      "metadata": {
        "id": "OyaXbYNJ9HO4",
        "outputId": "eed2326d-5ba5-4ab5-d411-98f86186d98d"
      },
      "outputs": [
        {
          "name": "stderr",
          "output_type": "stream",
          "text": [
            "C:\\Users\\USER\\AppData\\Roaming\\Python\\Python310\\site-packages\\keras\\src\\layers\\core\\embedding.py:90: UserWarning: Argument `input_length` is deprecated. Just remove it.\n",
            "  warnings.warn(\n"
          ]
        },
        {
          "name": "stdout",
          "output_type": "stream",
          "text": [
            "Epoch 1/50\n",
            "\u001b[1m1875/1875\u001b[0m \u001b[32m━━━━━━━━━━━━━━━━━━━━\u001b[0m\u001b[37m\u001b[0m \u001b[1m410s\u001b[0m 214ms/step - accuracy: 0.6355 - loss: 0.7488 - val_accuracy: 0.7977 - val_loss: 0.4579\n",
            "Epoch 2/50\n",
            "\u001b[1m1875/1875\u001b[0m \u001b[32m━━━━━━━━━━━━━━━━━━━━\u001b[0m\u001b[37m\u001b[0m \u001b[1m343s\u001b[0m 183ms/step - accuracy: 0.8063 - loss: 0.4489 - val_accuracy: 0.8144 - val_loss: 0.4300\n",
            "Epoch 3/50\n",
            "\u001b[1m1875/1875\u001b[0m \u001b[32m━━━━━━━━━━━━━━━━━━━━\u001b[0m\u001b[37m\u001b[0m \u001b[1m304s\u001b[0m 162ms/step - accuracy: 0.8298 - loss: 0.4085 - val_accuracy: 0.8245 - val_loss: 0.4094\n",
            "Epoch 4/50\n",
            "\u001b[1m1875/1875\u001b[0m \u001b[32m━━━━━━━━━━━━━━━━━━━━\u001b[0m\u001b[37m\u001b[0m \u001b[1m305s\u001b[0m 163ms/step - accuracy: 0.8506 - loss: 0.3706 - val_accuracy: 0.8387 - val_loss: 0.3910\n",
            "Epoch 5/50\n",
            "\u001b[1m1875/1875\u001b[0m \u001b[32m━━━━━━━━━━━━━━━━━━━━\u001b[0m\u001b[37m\u001b[0m \u001b[1m278s\u001b[0m 148ms/step - accuracy: 0.8705 - loss: 0.3378 - val_accuracy: 0.8476 - val_loss: 0.3701\n",
            "Epoch 6/50\n",
            "\u001b[1m1875/1875\u001b[0m \u001b[32m━━━━━━━━━━━━━━━━━━━━\u001b[0m\u001b[37m\u001b[0m \u001b[1m306s\u001b[0m 163ms/step - accuracy: 0.8886 - loss: 0.3061 - val_accuracy: 0.8623 - val_loss: 0.3542\n",
            "Epoch 7/50\n",
            "\u001b[1m1875/1875\u001b[0m \u001b[32m━━━━━━━━━━━━━━━━━━━━\u001b[0m\u001b[37m\u001b[0m \u001b[1m306s\u001b[0m 163ms/step - accuracy: 0.9011 - loss: 0.2779 - val_accuracy: 0.8665 - val_loss: 0.3421\n",
            "Epoch 8/50\n",
            "\u001b[1m1875/1875\u001b[0m \u001b[32m━━━━━━━━━━━━━━━━━━━━\u001b[0m\u001b[37m\u001b[0m \u001b[1m309s\u001b[0m 165ms/step - accuracy: 0.9134 - loss: 0.2490 - val_accuracy: 0.8731 - val_loss: 0.3366\n",
            "Epoch 9/50\n",
            "\u001b[1m1875/1875\u001b[0m \u001b[32m━━━━━━━━━━━━━━━━━━━━\u001b[0m\u001b[37m\u001b[0m \u001b[1m311s\u001b[0m 166ms/step - accuracy: 0.9233 - loss: 0.2259 - val_accuracy: 0.8810 - val_loss: 0.3246\n",
            "Epoch 10/50\n",
            "\u001b[1m1875/1875\u001b[0m \u001b[32m━━━━━━━━━━━━━━━━━━━━\u001b[0m\u001b[37m\u001b[0m \u001b[1m281s\u001b[0m 150ms/step - accuracy: 0.9324 - loss: 0.2059 - val_accuracy: 0.8845 - val_loss: 0.3176\n",
            "Epoch 11/50\n",
            "\u001b[1m1875/1875\u001b[0m \u001b[32m━━━━━━━━━━━━━━━━━━━━\u001b[0m\u001b[37m\u001b[0m \u001b[1m307s\u001b[0m 163ms/step - accuracy: 0.9393 - loss: 0.1870 - val_accuracy: 0.8874 - val_loss: 0.3235\n",
            "Epoch 12/50\n",
            "\u001b[1m1875/1875\u001b[0m \u001b[32m━━━━━━━━━━━━━━━━━━━━\u001b[0m\u001b[37m\u001b[0m \u001b[1m308s\u001b[0m 164ms/step - accuracy: 0.9454 - loss: 0.1706 - val_accuracy: 0.8921 - val_loss: 0.3456\n",
            "Epoch 13/50\n",
            "\u001b[1m1875/1875\u001b[0m \u001b[32m━━━━━━━━━━━━━━━━━━━━\u001b[0m\u001b[37m\u001b[0m \u001b[1m322s\u001b[0m 172ms/step - accuracy: 0.9498 - loss: 0.1592 - val_accuracy: 0.8958 - val_loss: 0.3389\n",
            "Epoch 14/50\n",
            "\u001b[1m1875/1875\u001b[0m \u001b[32m━━━━━━━━━━━━━━━━━━━━\u001b[0m\u001b[37m\u001b[0m \u001b[1m319s\u001b[0m 170ms/step - accuracy: 0.9565 - loss: 0.1425 - val_accuracy: 0.8965 - val_loss: 0.3262\n",
            "Epoch 15/50\n",
            "\u001b[1m1875/1875\u001b[0m \u001b[32m━━━━━━━━━━━━━━━━━━━━\u001b[0m\u001b[37m\u001b[0m \u001b[1m309s\u001b[0m 165ms/step - accuracy: 0.9592 - loss: 0.1340 - val_accuracy: 0.8982 - val_loss: 0.3262\n",
            "\u001b[1m938/938\u001b[0m \u001b[32m━━━━━━━━━━━━━━━━━━━━\u001b[0m\u001b[37m\u001b[0m \u001b[1m31s\u001b[0m 32ms/step\n",
            "Accuracy: 0.88\n"
          ]
        }
      ],
      "source": [
        "import pandas as pd\n",
        "import numpy as np\n",
        "import matplotlib.pyplot as plt\n",
        "import seaborn as sns\n",
        "from sklearn.model_selection import train_test_split\n",
        "from sklearn.metrics import accuracy_score\n",
        "from collections import Counter\n",
        "from tensorflow.keras.preprocessing.text import Tokenizer\n",
        "from tensorflow.keras.preprocessing.sequence import pad_sequences\n",
        "from tensorflow.keras.models import Sequential\n",
        "from tensorflow.keras.layers import Embedding, LSTM, Dense, Dropout, Bidirectional\n",
        "from tensorflow.keras.optimizers import RMSprop\n",
        "from tensorflow.keras.callbacks import EarlyStopping\n",
        "\n",
        "# Preprocess the dataset\n",
        "\n",
        "data = pd.read_csv(\"dataset.csv\", encoding='ISO-8859-1')\n",
        "\n",
        "# Sampling and text processing\n",
        "sample_data = data.sample(150000, replace=True, random_state=1)\n",
        "X = sample_data['Text']\n",
        "y = sample_data['label']\n",
        "\n",
        "# Tokenization and padding\n",
        "tokenizer = Tokenizer(num_words=10000)\n",
        "tokenizer.fit_on_texts(X)\n",
        "X_sequences = tokenizer.texts_to_sequences(X)\n",
        "max_len = max(len(seq) for seq in X_sequences)\n",
        "X_padded = pad_sequences(X_sequences, maxlen=max_len, padding='post')\n",
        "\n",
        "# Train-test split\n",
        "X_train, X_test, y_train, y_test = train_test_split(X_padded, y, test_size=0.2, random_state=1)\n",
        "\n",
        "# Building the bidirectional LSTM model\n",
        "model = Sequential()\n",
        "model.add(Embedding(input_dim=10000, output_dim=128, input_length=max_len))\n",
        "model.add(Bidirectional(LSTM(units=256, return_sequences=True)))\n",
        "model.add(Dropout(0.5))\n",
        "model.add(Bidirectional(LSTM(units=128, return_sequences=False)))\n",
        "model.add(Dropout(0.5))\n",
        "model.add(Dense(units=128, activation='relu', kernel_regularizer='l2'))\n",
        "model.add(Dropout(0.5))\n",
        "model.add(Dense(units=1, activation='sigmoid'))\n",
        "\n",
        "# Compile the model\n",
        "model.compile(optimizer=RMSprop(learning_rate=0.001), loss='binary_crossentropy', metrics=['accuracy'])\n",
        "\n",
        "# Define early stopping\n",
        "early_stopping = EarlyStopping(monitor='val_loss', patience=5, restore_best_weights=True)\n",
        "\n",
        "# Train the model\n",
        "history = model.fit(\n",
        "    X_train, y_train,\n",
        "    epochs=50,\n",
        "    batch_size=64,\n",
        "    validation_data=(X_test, y_test),\n",
        "    callbacks=[early_stopping]\n",
        ")\n",
        "\n",
        "# Evaluate the model\n",
        "y_pred = model.predict(X_test)\n",
        "y_pred = np.round(y_pred).astype(int)\n",
        "accuracy = accuracy_score(y_test, y_pred)\n",
        "print(f'Accuracy: {accuracy:.2f}')\n"
      ]
    },
    {
      "cell_type": "markdown",
      "metadata": {
        "id": "9tb-MoLW9HO6"
      },
      "source": [
        "LSTM small dataset"
      ]
    },
    {
      "cell_type": "code",
      "execution_count": null,
      "metadata": {
        "id": "KN5yri7C9HO8",
        "outputId": "8e32b9f2-02e0-4fc5-88d6-442b19a6562c"
      },
      "outputs": [
        {
          "name": "stderr",
          "output_type": "stream",
          "text": [
            "C:\\Users\\USER\\AppData\\Roaming\\Python\\Python310\\site-packages\\keras\\src\\layers\\core\\embedding.py:90: UserWarning: Argument `input_length` is deprecated. Just remove it.\n",
            "  warnings.warn(\n"
          ]
        },
        {
          "name": "stdout",
          "output_type": "stream",
          "text": [
            "Epoch 1/50\n",
            "\u001b[1m125/125\u001b[0m \u001b[32m━━━━━━━━━━━━━━━━━━━━\u001b[0m\u001b[37m\u001b[0m \u001b[1m26s\u001b[0m 153ms/step - accuracy: 0.5025 - loss: 1.5124 - val_accuracy: 0.5185 - val_loss: 0.7007\n",
            "Epoch 2/50\n",
            "\u001b[1m125/125\u001b[0m \u001b[32m━━━━━━━━━━━━━━━━━━━━\u001b[0m\u001b[37m\u001b[0m \u001b[1m18s\u001b[0m 142ms/step - accuracy: 0.5359 - loss: 0.6938 - val_accuracy: 0.6265 - val_loss: 0.6588\n",
            "Epoch 3/50\n",
            "\u001b[1m125/125\u001b[0m \u001b[32m━━━━━━━━━━━━━━━━━━━━\u001b[0m\u001b[37m\u001b[0m \u001b[1m18s\u001b[0m 141ms/step - accuracy: 0.6802 - loss: 0.6232 - val_accuracy: 0.7200 - val_loss: 0.5785\n",
            "Epoch 4/50\n",
            "\u001b[1m125/125\u001b[0m \u001b[32m━━━━━━━━━━━━━━━━━━━━\u001b[0m\u001b[37m\u001b[0m \u001b[1m17s\u001b[0m 140ms/step - accuracy: 0.7734 - loss: 0.5204 - val_accuracy: 0.7185 - val_loss: 0.5914\n",
            "Epoch 5/50\n",
            "\u001b[1m125/125\u001b[0m \u001b[32m━━━━━━━━━━━━━━━━━━━━\u001b[0m\u001b[37m\u001b[0m \u001b[1m18s\u001b[0m 143ms/step - accuracy: 0.7948 - loss: 0.4870 - val_accuracy: 0.6970 - val_loss: 0.6082\n",
            "Epoch 6/50\n",
            "\u001b[1m125/125\u001b[0m \u001b[32m━━━━━━━━━━━━━━━━━━━━\u001b[0m\u001b[37m\u001b[0m \u001b[1m18s\u001b[0m 141ms/step - accuracy: 0.8546 - loss: 0.3980 - val_accuracy: 0.7345 - val_loss: 0.5621\n",
            "Epoch 7/50\n",
            "\u001b[1m125/125\u001b[0m \u001b[32m━━━━━━━━━━━━━━━━━━━━\u001b[0m\u001b[37m\u001b[0m \u001b[1m18s\u001b[0m 141ms/step - accuracy: 0.8769 - loss: 0.3441 - val_accuracy: 0.7360 - val_loss: 0.5819\n",
            "Epoch 8/50\n",
            "\u001b[1m125/125\u001b[0m \u001b[32m━━━━━━━━━━━━━━━━━━━━\u001b[0m\u001b[37m\u001b[0m \u001b[1m17s\u001b[0m 140ms/step - accuracy: 0.8894 - loss: 0.3123 - val_accuracy: 0.7425 - val_loss: 0.5986\n",
            "Epoch 9/50\n",
            "\u001b[1m125/125\u001b[0m \u001b[32m━━━━━━━━━━━━━━━━━━━━\u001b[0m\u001b[37m\u001b[0m \u001b[1m18s\u001b[0m 141ms/step - accuracy: 0.8951 - loss: 0.3070 - val_accuracy: 0.7360 - val_loss: 0.6499\n",
            "Epoch 10/50\n",
            "\u001b[1m125/125\u001b[0m \u001b[32m━━━━━━━━━━━━━━━━━━━━\u001b[0m\u001b[37m\u001b[0m \u001b[1m17s\u001b[0m 139ms/step - accuracy: 0.9147 - loss: 0.2629 - val_accuracy: 0.7395 - val_loss: 0.6499\n",
            "Epoch 11/50\n",
            "\u001b[1m125/125\u001b[0m \u001b[32m━━━━━━━━━━━━━━━━━━━━\u001b[0m\u001b[37m\u001b[0m \u001b[1m17s\u001b[0m 139ms/step - accuracy: 0.9320 - loss: 0.2135 - val_accuracy: 0.7385 - val_loss: 0.7188\n",
            "\u001b[1m63/63\u001b[0m \u001b[32m━━━━━━━━━━━━━━━━━━━━\u001b[0m\u001b[37m\u001b[0m \u001b[1m3s\u001b[0m 45ms/step\n",
            "Accuracy: 0.73\n"
          ]
        }
      ],
      "source": [
        "import pandas as pd\n",
        "import numpy as np\n",
        "import matplotlib.pyplot as plt\n",
        "import seaborn as sns\n",
        "from sklearn.model_selection import train_test_split\n",
        "from sklearn.metrics import accuracy_score\n",
        "from tensorflow.keras.preprocessing.text import Tokenizer\n",
        "from tensorflow.keras.preprocessing.sequence import pad_sequences\n",
        "from tensorflow.keras.models import Sequential\n",
        "from tensorflow.keras.layers import Embedding, LSTM, Dense, Dropout, Bidirectional\n",
        "from tensorflow.keras.optimizers import RMSprop\n",
        "from tensorflow.keras.callbacks import EarlyStopping\n",
        "\n",
        "# Load the dataset\n",
        "data = pd.read_csv(\"dataset.csv\", encoding='ISO-8859-1')\n",
        "\n",
        "# Sample the data to 10k rows\n",
        "sample_data = data.sample(10000, replace=True, random_state=1)\n",
        "X = sample_data['Text']\n",
        "y = sample_data['label']\n",
        "\n",
        "# Tokenization and padding\n",
        "tokenizer = Tokenizer(num_words=10000)\n",
        "tokenizer.fit_on_texts(X)\n",
        "X_sequences = tokenizer.texts_to_sequences(X)\n",
        "max_len = max(len(seq) for seq in X_sequences)\n",
        "X_padded = pad_sequences(X_sequences, maxlen=max_len, padding='post')\n",
        "\n",
        "# Train-test split\n",
        "X_train, X_test, y_train, y_test = train_test_split(X_padded, y, test_size=0.2, random_state=1)\n",
        "\n",
        "# Building the bidirectional LSTM model\n",
        "model = Sequential()\n",
        "model.add(Embedding(input_dim=10000, output_dim=128, input_length=max_len))\n",
        "model.add(Bidirectional(LSTM(units=256, return_sequences=True)))\n",
        "model.add(Dropout(0.5))\n",
        "model.add(Bidirectional(LSTM(units=128, return_sequences=False)))\n",
        "model.add(Dropout(0.5))\n",
        "model.add(Dense(units=128, activation='relu', kernel_regularizer='l2'))\n",
        "model.add(Dropout(0.5))\n",
        "model.add(Dense(units=1, activation='sigmoid'))\n",
        "\n",
        "# Compile the model\n",
        "model.compile(optimizer=RMSprop(learning_rate=0.001), loss='binary_crossentropy', metrics=['accuracy'])\n",
        "\n",
        "# Define early stopping\n",
        "early_stopping = EarlyStopping(monitor='val_loss', patience=5, restore_best_weights=True)\n",
        "\n",
        "# Train the model\n",
        "history = model.fit(\n",
        "    X_train, y_train,\n",
        "    epochs=50,\n",
        "    batch_size=64,\n",
        "    validation_data=(X_test, y_test),\n",
        "    callbacks=[early_stopping]\n",
        ")\n",
        "\n",
        "# Evaluate the model\n",
        "y_pred = model.predict(X_test)\n",
        "y_pred = np.round(y_pred).astype(int)\n",
        "accuracy = accuracy_score(y_test, y_pred)\n",
        "print(f'Accuracy: {accuracy:.2f}')\n"
      ]
    },
    {
      "cell_type": "markdown",
      "metadata": {
        "id": "34_rOytDdZq7"
      },
      "source": [
        "# SVM\n"
      ]
    },
    {
      "cell_type": "code",
      "execution_count": null,
      "metadata": {
        "id": "IrQ6YxZ6yNCi",
        "outputId": "506b545d-7f9a-4b25-a455-c81382668b85"
      },
      "outputs": [
        {
          "name": "stdout",
          "output_type": "stream",
          "text": [
            "Test Accuracy: 0.76\n"
          ]
        }
      ],
      "source": [
        "import pandas as pd\n",
        "from sklearn.model_selection import train_test_split\n",
        "from sklearn.feature_extraction.text import TfidfVectorizer\n",
        "from sklearn.svm import SVC\n",
        "from sklearn.metrics import accuracy_score, classification_report\n",
        "\n",
        "\n",
        "sample_data['Text'] = sample_data['Text'].fillna('')\n",
        "\n",
        "texts = sample_data['Text'].values\n",
        "labels = sample_data['label'].values\n",
        "\n",
        "# Split data into training and test sets\n",
        "X_train, X_test, y_train, y_test = train_test_split(texts, labels, test_size=0.2, random_state=42)\n",
        "\n",
        "# Convert text data into TF-IDF features\n",
        "vectorizer = TfidfVectorizer(max_features=5000)\n",
        "X_train_tfidf = vectorizer.fit_transform(X_train)\n",
        "X_test_tfidf = vectorizer.transform(X_test)\n",
        "\n",
        "# Initialize and train the SVM model\n",
        "svm_model = SVC(kernel='linear')\n",
        "svm_model.fit(X_train_tfidf, y_train)\n",
        "\n",
        "# Make predictions on the test set\n",
        "y_pred = svm_model.predict(X_test_tfidf)\n",
        "\n",
        "# Evaluate the model\n",
        "accuracy = accuracy_score(y_test, y_pred)\n",
        "print(f'Test Accuracy: {accuracy:.2f}')"
      ]
    },
    {
      "cell_type": "markdown",
      "metadata": {
        "id": "3bCmz3tv9HO_"
      },
      "source": [
        "SVM Small Dataset"
      ]
    },
    {
      "cell_type": "code",
      "execution_count": null,
      "metadata": {
        "id": "usz7nZmp9HPA",
        "outputId": "e0feb806-cdb3-49a2-d635-858033eae110"
      },
      "outputs": [
        {
          "name": "stdout",
          "output_type": "stream",
          "text": [
            "Test Accuracy: 0.75\n",
            "              precision    recall  f1-score   support\n",
            "\n",
            "           0       0.75      0.74      0.74       994\n",
            "           1       0.74      0.76      0.75      1006\n",
            "\n",
            "    accuracy                           0.75      2000\n",
            "   macro avg       0.75      0.75      0.75      2000\n",
            "weighted avg       0.75      0.75      0.75      2000\n",
            "\n"
          ]
        }
      ],
      "source": [
        "import pandas as pd\n",
        "from sklearn.model_selection import train_test_split\n",
        "from sklearn.feature_extraction.text import TfidfVectorizer\n",
        "from sklearn.svm import SVC\n",
        "from sklearn.metrics import accuracy_score, classification_report\n",
        "\n",
        "# Ensure no missing values in the Text column\n",
        "sample_data['Text'] = sample_data['Text'].fillna('')\n",
        "\n",
        "# Limit to 10,000 samples\n",
        "sample_data = sample_data.sample(n=10000, random_state=42)\n",
        "\n",
        "texts = sample_data['Text'].values\n",
        "labels = sample_data['label'].values\n",
        "\n",
        "# Split data into training and test sets\n",
        "X_train, X_test, y_train, y_test = train_test_split(texts, labels, test_size=0.2, random_state=42)\n",
        "\n",
        "# Convert text data into TF-IDF features\n",
        "vectorizer = TfidfVectorizer(max_features=5000)\n",
        "X_train_tfidf = vectorizer.fit_transform(X_train)\n",
        "X_test_tfidf = vectorizer.transform(X_test)\n",
        "\n",
        "# Initialize and train the SVM model\n",
        "svm_model = SVC(kernel='linear')\n",
        "svm_model.fit(X_train_tfidf, y_train)\n",
        "\n",
        "# Make predictions on the test set\n",
        "y_pred = svm_model.predict(X_test_tfidf)\n",
        "\n",
        "# Evaluate the model\n",
        "accuracy = accuracy_score(y_test, y_pred)\n",
        "print(f'Test Accuracy: {accuracy:.2f}')\n",
        "\n",
        "# Detailed classification report\n",
        "print(classification_report(y_test, y_pred))\n"
      ]
    },
    {
      "cell_type": "markdown",
      "metadata": {
        "id": "9mwA_qWOyr-i"
      },
      "source": [
        "# naive_bayes\n"
      ]
    },
    {
      "cell_type": "code",
      "execution_count": null,
      "metadata": {
        "id": "ejNawBGbh_m_",
        "outputId": "36af0ffe-c652-4210-d0b0-828936e60855"
      },
      "outputs": [
        {
          "name": "stdout",
          "output_type": "stream",
          "text": [
            "Test Accuracy: 0.75\n"
          ]
        }
      ],
      "source": [
        "import pandas as pd\n",
        "from sklearn.model_selection import train_test_split\n",
        "from sklearn.feature_extraction.text import TfidfVectorizer\n",
        "from sklearn.naive_bayes import MultinomialNB\n",
        "from sklearn.metrics import accuracy_score, classification_report\n",
        "\n",
        "texts = sample_data['Text'].values\n",
        "labels = sample_data['label'].values\n",
        "\n",
        "# Split data into training and test sets\n",
        "X_train, X_test, y_train, y_test = train_test_split(texts, labels, test_size=0.2, random_state=42)\n",
        "\n",
        "# Convert text data into TF-IDF features\n",
        "vectorizer = TfidfVectorizer(max_features=5000)  # Limit to 5000 features (words)\n",
        "\n",
        "# Handle NaN values by replacing them with an empty string before fitting the vectorizer\n",
        "X_train = [str(x) if not pd.isnull(x) else '' for x in X_train]\n",
        "X_test = [str(x) if not pd.isnull(x) else '' for x in X_test]\n",
        "\n",
        "X_train_tfidf = vectorizer.fit_transform(X_train)\n",
        "X_test_tfidf = vectorizer.transform(X_test)\n",
        "\n",
        "# Initialize and train the Naive Bayes model\n",
        "nb_model = MultinomialNB()\n",
        "nb_model.fit(X_train_tfidf, y_train)\n",
        "\n",
        "# Make predictions on the test set\n",
        "y_pred = nb_model.predict(X_test_tfidf)\n",
        "\n",
        "# Evaluate the model\n",
        "accuracy = accuracy_score(y_test, y_pred)\n",
        "print(f'Test Accuracy: {accuracy:.2f}')\n"
      ]
    },
    {
      "cell_type": "markdown",
      "metadata": {
        "id": "ckhRmBWC9HPC"
      },
      "source": [
        "Small naive bayes"
      ]
    },
    {
      "cell_type": "code",
      "execution_count": null,
      "metadata": {
        "id": "cSnEO6tl9HPD",
        "outputId": "445b1296-a035-4eb0-83cb-0afc8ab70720"
      },
      "outputs": [
        {
          "name": "stdout",
          "output_type": "stream",
          "text": [
            "Test Accuracy: 0.73\n"
          ]
        }
      ],
      "source": [
        "import pandas as pd\n",
        "from sklearn.model_selection import train_test_split\n",
        "from sklearn.feature_extraction.text import TfidfVectorizer\n",
        "from sklearn.naive_bayes import MultinomialNB\n",
        "from sklearn.metrics import accuracy_score, classification_report\n",
        "\n",
        "# Ensure no missing values in the Text column\n",
        "sample_data['Text'] = sample_data['Text'].fillna('')\n",
        "\n",
        "# Limit to 10,000 samples\n",
        "small_sample = sample_data.sample(n=10000, random_state=42)\n",
        "\n",
        "texts = small_sample['Text'].values\n",
        "labels = small_sample['label'].values\n",
        "\n",
        "# Split data into training and test sets\n",
        "X_train, X_test, y_train, y_test = train_test_split(texts, labels, test_size=0.2, random_state=42)\n",
        "\n",
        "# Convert text data into TF-IDF features\n",
        "vectorizer = TfidfVectorizer(max_features=5000)  # Limit to 5000 features (words)\n",
        "\n",
        "# Handle NaN values by replacing them with an empty string before fitting the vectorizer\n",
        "X_train = [str(x) if not pd.isnull(x) else '' for x in X_train]\n",
        "X_test = [str(x) if not pd.isnull(x) else '' for x in X_test]\n",
        "\n",
        "X_train_tfidf = vectorizer.fit_transform(X_train)\n",
        "X_test_tfidf = vectorizer.transform(X_test)\n",
        "\n",
        "# Initialize and train the Naive Bayes model\n",
        "nb_model = MultinomialNB()\n",
        "nb_model.fit(X_train_tfidf, y_train)\n",
        "\n",
        "# Make predictions on the test set\n",
        "y_pred = nb_model.predict(X_test_tfidf)\n",
        "\n",
        "# Evaluate the model\n",
        "accuracy = accuracy_score(y_test, y_pred)\n",
        "print(f'Test Accuracy: {accuracy:.2f}')\n",
        "\n",
        "\n"
      ]
    }
  ],
  "metadata": {
    "colab": {
      "provenance": []
    },
    "kernelspec": {
      "display_name": "Python 3",
      "name": "python3"
    },
    "language_info": {
      "codemirror_mode": {
        "name": "ipython",
        "version": 3
      },
      "file_extension": ".py",
      "mimetype": "text/x-python",
      "name": "python",
      "nbconvert_exporter": "python",
      "pygments_lexer": "ipython3",
      "version": "3.10.10"
    }
  },
  "nbformat": 4,
  "nbformat_minor": 0
}