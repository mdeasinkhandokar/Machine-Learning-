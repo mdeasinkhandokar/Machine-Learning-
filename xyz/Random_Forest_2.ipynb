{
  "cells": [
    {
      "cell_type": "markdown",
      "metadata": {
        "id": "TP6tUbPWzcI1"
      },
      "source": [
        "Import module printing the dataset"
      ]
    },
    {
      "cell_type": "code",
      "source": [
        "from google.colab import drive\n",
        "drive.mount('/content/drive')"
      ],
      "metadata": {
        "id": "qLFmd_QAYoJh"
      },
      "execution_count": null,
      "outputs": []
    },
    {
      "cell_type": "code",
      "execution_count": null,
      "metadata": {
        "colab": {
          "base_uri": "https://localhost:8080/",
          "height": 363
        },
        "id": "igY0uw9MK39U",
        "outputId": "ee216d61-1a95-4126-e1a7-95ff7f1d332d"
      },
      "outputs": [
        {
          "data": {
            "text/html": [
              "<div>\n",
              "<style scoped>\n",
              "    .dataframe tbody tr th:only-of-type {\n",
              "        vertical-align: middle;\n",
              "    }\n",
              "\n",
              "    .dataframe tbody tr th {\n",
              "        vertical-align: top;\n",
              "    }\n",
              "\n",
              "    .dataframe thead th {\n",
              "        text-align: right;\n",
              "    }\n",
              "</style>\n",
              "<table border=\"1\" class=\"dataframe\">\n",
              "  <thead>\n",
              "    <tr style=\"text-align: right;\">\n",
              "      <th></th>\n",
              "      <th>label</th>\n",
              "      <th>Text</th>\n",
              "    </tr>\n",
              "  </thead>\n",
              "  <tbody>\n",
              "    <tr>\n",
              "      <th>0</th>\n",
              "      <td>1</td>\n",
              "      <td>Keep the BGT tweets coming... for us in the US...</td>\n",
              "    </tr>\n",
              "    <tr>\n",
              "      <th>1</th>\n",
              "      <td>1</td>\n",
              "      <td>@mp3mad  We did.  Young one had to go to bed w...</td>\n",
              "    </tr>\n",
              "    <tr>\n",
              "      <th>2</th>\n",
              "      <td>1</td>\n",
              "      <td>http://is.gd/LpF9 any clickdensity users aroun...</td>\n",
              "    </tr>\n",
              "    <tr>\n",
              "      <th>3</th>\n",
              "      <td>0</td>\n",
              "      <td>gonna knit a felted heart toy for mum for Moth...</td>\n",
              "    </tr>\n",
              "    <tr>\n",
              "      <th>4</th>\n",
              "      <td>1</td>\n",
              "      <td>@DarkPiano LOREN, emergency, this is lizrose. ...</td>\n",
              "    </tr>\n",
              "    <tr>\n",
              "      <th>5</th>\n",
              "      <td>1</td>\n",
              "      <td>@jsi5 http://twitpic.com/7rrf7 - Looks like an...</td>\n",
              "    </tr>\n",
              "    <tr>\n",
              "      <th>6</th>\n",
              "      <td>0</td>\n",
              "      <td>@DQJ Thanks!</td>\n",
              "    </tr>\n",
              "    <tr>\n",
              "      <th>7</th>\n",
              "      <td>0</td>\n",
              "      <td>@saturnboy good job!  So pretty</td>\n",
              "    </tr>\n",
              "    <tr>\n",
              "      <th>8</th>\n",
              "      <td>0</td>\n",
              "      <td>@patembe Thanks for you translation, I will ad...</td>\n",
              "    </tr>\n",
              "    <tr>\n",
              "      <th>9</th>\n",
              "      <td>1</td>\n",
              "      <td>today its another day and i will be ready for ...</td>\n",
              "    </tr>\n",
              "  </tbody>\n",
              "</table>\n",
              "</div>"
            ],
            "text/plain": [
              "   label                                               Text\n",
              "0      1  Keep the BGT tweets coming... for us in the US...\n",
              "1      1  @mp3mad  We did.  Young one had to go to bed w...\n",
              "2      1  http://is.gd/LpF9 any clickdensity users aroun...\n",
              "3      0  gonna knit a felted heart toy for mum for Moth...\n",
              "4      1  @DarkPiano LOREN, emergency, this is lizrose. ...\n",
              "5      1  @jsi5 http://twitpic.com/7rrf7 - Looks like an...\n",
              "6      0                                      @DQJ Thanks! \n",
              "7      0                   @saturnboy good job!  So pretty \n",
              "8      0  @patembe Thanks for you translation, I will ad...\n",
              "9      1  today its another day and i will be ready for ..."
            ]
          },
          "execution_count": 1,
          "metadata": {},
          "output_type": "execute_result"
        }
      ],
      "source": [
        "import pandas as pd\n",
        "import numpy as np\n",
        "import matplotlib.pyplot as plt\n",
        "import seaborn as sns\n",
        "\n",
        "#READ DATA\n",
        "data = pd.read_csv(\"dataset.csv\")\n",
        "data.head(10)"
      ]
    },
    {
      "cell_type": "code",
      "execution_count": null,
      "metadata": {
        "id": "xXZPCzUoNpHR"
      },
      "outputs": [],
      "source": [
        "from sklearn.feature_extraction.text import TfidfVectorizer\n",
        "from sklearn.model_selection import train_test_split\n",
        "from sklearn.linear_model import LogisticRegressionCV\n",
        "from sklearn import metrics\n",
        "import nltk\n",
        "from nltk.corpus import stopwords\n",
        "import string\n",
        "import re"
      ]
    },
    {
      "cell_type": "code",
      "execution_count": null,
      "metadata": {
        "colab": {
          "base_uri": "https://localhost:8080/"
        },
        "id": "Q-bGeMhvOPRj",
        "outputId": "641e10dd-66f8-4d46-c4cc-f193a9ee23d0"
      },
      "outputs": [
        {
          "name": "stdout",
          "output_type": "stream",
          "text": [
            "128037    @_AislinnTighee wow your cooool ;) lalalala th...\n",
            "5192      @artcrawl Oh man, Dollhouse really was excelle...\n",
            "50057     @Orchidflower well I like mine best ;) thank y...\n",
            "109259    Morning!Haven't been about because our interne...\n",
            "73349     is sad  jealousy is not a good thing when you ...\n",
            "                                ...                        \n",
            "31132     Hmmm...u can only hope or wish for so much...o...\n",
            "42761                             @artemisrex work it out! \n",
            "120772       wish I was gonna be at the cmt awards tonight \n",
            "49752                           I love Icecream on hot day \n",
            "48941     Has decided sleep isn't important, was gonna w...\n",
            "Name: Text, Length: 150000, dtype: object\n",
            "128037    0\n",
            "5192      1\n",
            "50057     0\n",
            "109259    1\n",
            "73349     1\n",
            "         ..\n",
            "31132     0\n",
            "42761     0\n",
            "120772    1\n",
            "49752     0\n",
            "48941     1\n",
            "Name: label, Length: 150000, dtype: int64\n"
          ]
        }
      ],
      "source": [
        "# Sample data\n",
        "\n",
        "sample_data = data.sample(150000,replace=True, random_state=1)\n",
        "X = sample_data['Text']\n",
        "y = sample_data['label']\n",
        "print(X)\n",
        "print(y)"
      ]
    },
    {
      "cell_type": "code",
      "execution_count": null,
      "metadata": {
        "id": "ycRe9GKrDf-G"
      },
      "outputs": [],
      "source": []
    },
    {
      "cell_type": "markdown",
      "metadata": {
        "id": "dV1xQ5vaDmkb"
      },
      "source": [
        "# STOP WORDS"
      ]
    },
    {
      "cell_type": "code",
      "execution_count": null,
      "metadata": {
        "colab": {
          "base_uri": "https://localhost:8080/"
        },
        "id": "oEl3Gwx4Nu_7",
        "outputId": "7312697a-9583-49b8-96b7-65db26f6efe0"
      },
      "outputs": [
        {
          "name": "stderr",
          "output_type": "stream",
          "text": [
            "[nltk_data] Downloading package stopwords to\n",
            "[nltk_data]     C:\\Users\\USER\\AppData\\Roaming\\nltk_data...\n",
            "[nltk_data]   Package stopwords is already up-to-date!\n"
          ]
        }
      ],
      "source": [
        "nltk.download('stopwords')\n",
        "stop_words = set(stopwords.words('english'))"
      ]
    },
    {
      "cell_type": "markdown",
      "metadata": {
        "id": "CDuAbe--Drdj"
      },
      "source": [
        "# CLEAN DATA"
      ]
    },
    {
      "cell_type": "code",
      "execution_count": null,
      "metadata": {
        "colab": {
          "base_uri": "https://localhost:8080/",
          "height": 711
        },
        "id": "vxVbkpztN1wa",
        "outputId": "2f6a3363-50bc-4cf2-ca58-0f42788c11b9"
      },
      "outputs": [
        {
          "name": "stderr",
          "output_type": "stream",
          "text": [
            "[nltk_data] Downloading package punkt to\n",
            "[nltk_data]     C:\\Users\\USER\\AppData\\Roaming\\nltk_data...\n",
            "[nltk_data]   Package punkt is already up-to-date!\n",
            "[nltk_data] Downloading package stopwords to\n",
            "[nltk_data]     C:\\Users\\USER\\AppData\\Roaming\\nltk_data...\n",
            "[nltk_data]   Package stopwords is already up-to-date!\n",
            "[nltk_data] Downloading package averaged_perceptron_tagger to\n",
            "[nltk_data]     C:\\Users\\USER\\AppData\\Roaming\\nltk_data...\n",
            "[nltk_data]   Package averaged_perceptron_tagger is already up-to-\n",
            "[nltk_data]       date!\n",
            "[nltk_data] Downloading package wordnet to\n",
            "[nltk_data]     C:\\Users\\USER\\AppData\\Roaming\\nltk_data...\n",
            "[nltk_data]   Package wordnet is already up-to-date!\n"
          ]
        },
        {
          "name": "stdout",
          "output_type": "stream",
          "text": [
            "Most common POS tags in negative words:\n",
            "[('NN', 202427), ('JJ', 71356), ('VB', 37394), ('NNS', 36678), ('VBP', 28933), ('VBG', 27313), ('VBD', 20823), ('RB', 19400), ('VBN', 14375), ('VBZ', 9592)]\n",
            "    label                                               Text  \\\n",
            "0       1  Keep the BGT tweets coming... for us in the US...   \n",
            "1       1  @mp3mad  We did.  Young one had to go to bed w...   \n",
            "2       1  http://is.gd/LpF9 any clickdensity users aroun...   \n",
            "3       0  gonna knit a felted heart toy for mum for Moth...   \n",
            "4       1  @DarkPiano LOREN, emergency, this is lizrose. ...   \n",
            "5       1  @jsi5 http://twitpic.com/7rrf7 - Looks like an...   \n",
            "6       0                                      @DQJ Thanks!    \n",
            "7       0                   @saturnboy good job!  So pretty    \n",
            "8       0  @patembe Thanks for you translation, I will ad...   \n",
            "9       1  today its another day and i will be ready for ...   \n",
            "10      0  @Sharonyy Haha your right  I haven't even thou...   \n",
            "11      1       @mitchelmusso u will recurring HM season 4.    \n",
            "12      0        @Carlitosway89 Have fun and get save to LA    \n",
            "13      1  Made the mistake of checking my work to do lis...   \n",
            "14      1  @neonbug hope you feel better  I think everyon...   \n",
            "15      0  @creativeapps Some of them do look awesome - c...   \n",
            "16      0                                @KavithaV Congrats    \n",
            "17      0                 graduation today  i'm in the choir   \n",
            "18      1  @solangeknowles sad to hear the Air France air...   \n",
            "19      1  @cm_sher I wish I could track down a English a...   \n",
            "\n",
            "                                     Cleaned_Text_POS  \\\n",
            "0   [(bgt, JJ), (tweet, NNS), (come, VBG), (watch,...   \n",
            "1   [(young, JJ), (bed, VB), (tooth, NN), (attach,...   \n",
            "2   [(clickdensity, NN), (user, NNS), (website, JJ...   \n",
            "3   [(gon, NN), (na, TO), (knit, VB), (felted, JJ)...   \n",
            "4   [(loren, JJ), (emergency, NN), (lizrose, JJ), ...   \n",
            "5   [(look, NNS), (spider, NN), (bitei, NN), (happ...   \n",
            "6                                     [(thanks, NNS)]   \n",
            "7               [(good, JJ), (job, NN), (pretty, JJ)]   \n",
            "8   [(thanks, NNS), (translation, VBP), (add, VB),...   \n",
            "9   [(today, NN), (day, NN), (ready, JJ), (whatis,...   \n",
            "10  [(haha, VB), (right, NN), (havent, VBD), (thin...   \n",
            "11    [(u, NN), (recur, VBG), (hm, NN), (season, NN)]   \n",
            "12                  [(fun, NN), (save, VB), (la, VB)]   \n",
            "13  [(mistake, NN), (check, VBG), (work, NN), (lis...   \n",
            "14  [(hope, NN), (feel, VBP), (well, RB), (think, ...   \n",
            "15  [(look, VB), (awesome, VB), (consider, VBG), (...   \n",
            "16                                  [(congrats, NNS)]   \n",
            "17  [(graduation, NN), (today, NN), (im, VBP), (ch...   \n",
            "18  [(sad, NN), (hear, VB), (air, NN), (france, NN...   \n",
            "19  [(wish, VBP), (track, VB), (english, JJ), (aud...   \n",
            "\n",
            "                                         Cleaned_Text  \n",
            "0                                bgt tweet come watch  \n",
            "1   young bed tooth attach maybe tomorrow catch to...  \n",
            "2            clickdensity user website look ugly sure  \n",
            "3   gon na knit felted heart toy mum mother day sh...  \n",
            "4   loren emergency lizrose account suspend dont know  \n",
            "5       look spider bitei happen elbow itchiest thing  \n",
            "6                                              thanks  \n",
            "7                                     good job pretty  \n",
            "8             thanks translation add lanugage version  \n",
            "9               today day ready whatis lonely painful  \n",
            "10                         haha right havent think xd  \n",
            "11                                  u recur hm season  \n",
            "12                                        fun save la  \n",
            "13  mistake check work list itis look unlikely iwi...  \n",
            "14  hope feel well think get sick postthesis itis ...  \n",
            "15             look awesome consider pick iphone case  \n",
            "16                                           congrats  \n",
            "17                          graduation today im choir  \n",
            "18  sad hear air france airbus crash atlantic thou...  \n",
            "19  wish track english audio version mid savage ni...  \n"
          ]
        }
      ],
      "source": [
        "import re\n",
        "import string\n",
        "import nltk\n",
        "import spacy\n",
        "import pandas as pd\n",
        "from nltk.corpus import stopwords\n",
        "from nltk import pos_tag, word_tokenize\n",
        "from nltk.stem import WordNetLemmatizer\n",
        "from spacy.lang.en.stop_words import STOP_WORDS as spacy_stopwords\n",
        "from collections import Counter\n",
        "\n",
        "# Download necessary NLTK datasets\n",
        "nltk.download('punkt')\n",
        "nltk.download('stopwords')\n",
        "nltk.download('averaged_perceptron_tagger')\n",
        "nltk.download('wordnet')\n",
        "\n",
        "# Initialize lemmatizer\n",
        "lemmatizer = WordNetLemmatizer()\n",
        "\n",
        "# Stopwords set (combining NLTK and spaCy stopwords)\n",
        "stop_words = frozenset(stopwords.words('english')).union(spacy_stopwords)\n",
        "\n",
        "# Dictionary of contractions and their expanded forms\n",
        "abbreviation_map = {\n",
        "    \"isn't\": \"is not\", \"aren't\": \"are not\", \"can't\": \"cannot\",\n",
        "    \"couldn't\": \"could not\", \"don't\": \"do not\", \"doesn't\": \"does not\",\n",
        "    \"n't\": \"not\", \"'re\": \"are\", \"'ve\": \"have\", \"'ll\": \"will\",\n",
        "    \"'d\": \"would\", \"'s\": \"is\"\n",
        "}\n",
        "\n",
        "# Enhanced data cleaning function\n",
        "def clean_text(text):\n",
        "    # Convert to lowercase and handle abbreviations\n",
        "    text = text.lower()\n",
        "    for short_form, full_form in abbreviation_map.items():\n",
        "        text = re.sub(rf\"\\b{re.escape(short_form)}\\b\", full_form, text)\n",
        "\n",
        "    # Combine all regex replacements into a single call\n",
        "    text = re.sub(\n",
        "        r'http\\S+|www\\S+|https\\S+|'        # URLs\n",
        "        r'\\b\\w+@\\w+\\.\\w+\\b|'               # Emails\n",
        "        r'@\\w+|#\\w+|'                      # Hashtags and mentions\n",
        "        r'\\d+|'                            # Digits\n",
        "        r'[^\\x00-\\x7F]+|'                  # Non-English symbols\n",
        "        r'\\s+', ' ',                       # Excessive whitespace\n",
        "        text\n",
        "    )\n",
        "\n",
        "    # Remove punctuation and trim whitespace\n",
        "    return text.translate(str.maketrans('', '', string.punctuation)).strip()\n",
        "\n",
        "# Tokenize, lemmatize, and filter by POS and stopwords in one step\n",
        "def process_and_filter_text(text):\n",
        "    tokens = word_tokenize(text)\n",
        "    pos_tagged = pos_tag(tokens)\n",
        "    filtered_words = []\n",
        "\n",
        "    for word, tag in pos_tagged:\n",
        "        # Exclude stopwords and unwanted POS tags (e.g., prepositions and conjunctions)\n",
        "        if word in stop_words or tag in {'IN', 'CC'}:\n",
        "            continue\n",
        "\n",
        "        # Determine POS and lemmatize accordingly\n",
        "        if tag.startswith('NN'):\n",
        "            lemma = lemmatizer.lemmatize(word, pos='n')\n",
        "        elif tag.startswith('VB'):\n",
        "            lemma = lemmatizer.lemmatize(word, pos='v')\n",
        "        elif tag.startswith('JJ'):\n",
        "            lemma = lemmatizer.lemmatize(word, pos='a')\n",
        "        elif tag.startswith('RB'):\n",
        "            lemma = lemmatizer.lemmatize(word, pos='r')\n",
        "        else:\n",
        "            lemma = lemmatizer.lemmatize(word)\n",
        "\n",
        "        filtered_words.append((lemma, tag))  # Append word with POS tag if it passes all filters\n",
        "\n",
        "    return filtered_words\n",
        "\n",
        "# Full data cleaning and preprocessing pipeline\n",
        "def preprocess_data(text):\n",
        "    cleaned_text = clean_text(text)\n",
        "    return process_and_filter_text(cleaned_text)\n",
        "\n",
        "# Apply the preprocessing function to the dataset\n",
        "data = pd.read_csv(\"dataset.csv\")\n",
        "data['Cleaned_Text_POS'] = data['Text'].apply(preprocess_data)\n",
        "\n",
        "# Filter negative samples and analyze POS tags\n",
        "negative_data = data[data['label'] == 1]\n",
        "\n",
        "# Collect POS tags of words in negative texts\n",
        "pos_tags_negative = Counter()\n",
        "for row in negative_data['Cleaned_Text_POS']:\n",
        "    pos_tags_negative.update(tag for _, tag in row)\n",
        "\n",
        "# Display the most common POS tags associated with negative words\n",
        "print(\"Most common POS tags in negative words:\")\n",
        "print(pos_tags_negative.most_common(10))\n",
        "\n",
        "# Remove the POS tags to retain only the cleaned text for other uses\n",
        "data['Cleaned_Text'] = data['Cleaned_Text_POS'].apply(lambda x: ' '.join(word for word, _ in x))\n",
        "\n",
        "# Display the first 20 rows of the cleaned dataset with POS analysis\n",
        "print(data.head(20))\n"
      ]
    },
    {
      "cell_type": "code",
      "execution_count": null,
      "metadata": {
        "colab": {
          "base_uri": "https://localhost:8080/"
        },
        "id": "JcwcliSDt1dN",
        "outputId": "d671222f-544e-4c07-f241-217afb5211f1"
      },
      "outputs": [
        {
          "name": "stdout",
          "output_type": "stream",
          "text": [
            "(149900, 4)\n",
            "   label                                               Text  \\\n",
            "0      1  Keep the BGT tweets coming... for us in the US...   \n",
            "1      1  @mp3mad  We did.  Young one had to go to bed w...   \n",
            "2      1  http://is.gd/LpF9 any clickdensity users aroun...   \n",
            "3      0  gonna knit a felted heart toy for mum for Moth...   \n",
            "4      1  @DarkPiano LOREN, emergency, this is lizrose. ...   \n",
            "\n",
            "                                    Cleaned_Text_POS  \\\n",
            "0  [(bgt, JJ), (tweet, NNS), (come, VBG), (watch,...   \n",
            "1  [(young, JJ), (bed, VB), (tooth, NN), (attach,...   \n",
            "2  [(clickdensity, NN), (user, NNS), (website, JJ...   \n",
            "3  [(gon, NN), (na, TO), (knit, VB), (felted, JJ)...   \n",
            "4  [(loren, JJ), (emergency, NN), (lizrose, JJ), ...   \n",
            "\n",
            "                                        Cleaned_Text  \n",
            "0                               bgt tweet come watch  \n",
            "1  young bed tooth attach maybe tomorrow catch to...  \n",
            "2           clickdensity user website look ugly sure  \n",
            "3  gon na knit felted heart toy mum mother day sh...  \n",
            "4  loren emergency lizrose account suspend dont know  \n",
            "Index(['label', 'Text', 'Cleaned_Text_POS', 'Cleaned_Text'], dtype='object')\n",
            "128037    @_AislinnTighee wow your cooool ;) lalalala th...\n",
            "5192      @artcrawl Oh man, Dollhouse really was excelle...\n",
            "50057     @Orchidflower well I like mine best ;) thank y...\n",
            "109259    Morning!Haven't been about because our interne...\n",
            "73349     is sad  jealousy is not a good thing when you ...\n",
            "Name: Text, dtype: object\n",
            "128037    0\n",
            "5192      1\n",
            "50057     0\n",
            "109259    1\n",
            "73349     1\n",
            "Name: label, dtype: int64\n"
          ]
        }
      ],
      "source": [
        "\n",
        "data.head()\n",
        "data.shape\n",
        "print(data.shape)\n",
        "print(data.head())\n",
        "print(data.columns)\n",
        "print(X.head())\n",
        "print(y.head())\n"
      ]
    },
    {
      "cell_type": "markdown",
      "metadata": {
        "id": "N6fNpGzsz5pc"
      },
      "source": [
        "Eliminate last 17 thousand dataset beacuse its too long and time wasting"
      ]
    },
    {
      "cell_type": "code",
      "execution_count": null,
      "metadata": {
        "colab": {
          "base_uri": "https://localhost:8080/",
          "height": 178
        },
        "id": "mKkKpAAEt-cy",
        "outputId": "cf501e69-5eac-449d-a3d8-e8c0a9747945"
      },
      "outputs": [
        {
          "data": {
            "text/plain": [
              "label\n",
              "1    74950\n",
              "0    74950\n",
              "Name: count, dtype: int64"
            ]
          },
          "execution_count": 8,
          "metadata": {},
          "output_type": "execute_result"
        }
      ],
      "source": [
        "data['label'].value_counts()"
      ]
    },
    {
      "cell_type": "markdown",
      "metadata": {
        "id": "KJiyQt7601hl"
      },
      "source": [
        "visualize the leable"
      ]
    },
    {
      "cell_type": "code",
      "execution_count": null,
      "metadata": {
        "colab": {
          "base_uri": "https://localhost:8080/",
          "height": 461
        },
        "id": "mseqOBt-uBhC",
        "outputId": "2df21322-b38a-4fe9-d503-d878b14040cf"
      },
      "outputs": [
        {
          "data": {
            "text/plain": [
              "<Axes: xlabel='label'>"
            ]
          },
          "execution_count": 9,
          "metadata": {},
          "output_type": "execute_result"
        },
        {
          "data": {
            "image/png": "[encoded data removed]",
            "text/plain": [
              "<Figure size 640x480 with 1 Axes>"
            ]
          },
          "metadata": {},
          "output_type": "display_data"
        }
      ],
      "source": [
        "data['label'].value_counts().plot(kind='bar')"
      ]
    },
    {
      "cell_type": "markdown",
      "metadata": {
        "id": "MVZqiuSw1TLL"
      },
      "source": [
        "Creating a pie chart for the label i got"
      ]
    },
    {
      "cell_type": "code",
      "execution_count": null,
      "metadata": {
        "colab": {
          "base_uri": "https://localhost:8080/",
          "height": 538
        },
        "id": "WfSo8LLkuNeM",
        "outputId": "6514f124-70c5-443f-d4f9-2bb14fd76103"
      },
      "outputs": [
        {
          "data": {
            "text/plain": [
              "Text(0.5, 1.0, 'label distribution')"
            ]
          },
          "execution_count": 10,
          "metadata": {},
          "output_type": "execute_result"
        },
        {
          "data": {
            "image/png": "[encoded data removed]",
            "text/plain": [
              "<Figure size 1000x600 with 1 Axes>"
            ]
          },
          "metadata": {},
          "output_type": "display_data"
        }
      ],
      "source": [
        "plt.figure(figsize=(10,6))\n",
        "colors = ['green', 'orange']\n",
        "data['label'].value_counts().plot(kind='pie', autopct='%.1f%%',shadow = True,colors = colors,startangle = 45,\n",
        "                 explode=(0, 0.1))\n",
        "plt.title('label distribution')\n"
      ]
    },
    {
      "cell_type": "markdown",
      "metadata": {
        "id": "go0IQJDf1rpG"
      },
      "source": [
        "the code is trying to extract the value at the 999th position within the  column"
      ]
    },
    {
      "cell_type": "markdown",
      "metadata": {
        "id": "jaiL9tQg2ITO"
      },
      "source": [
        "visualizing the negetive and positive words,it counts frequents word of each category"
      ]
    },
    {
      "cell_type": "code",
      "execution_count": null,
      "metadata": {
        "colab": {
          "base_uri": "https://localhost:8080/",
          "height": 36
        },
        "id": "_rfmpiYR-rBZ",
        "outputId": "b1e2a24b-0de4-48ce-95dd-dd78da382623"
      },
      "outputs": [
        {
          "data": {
            "text/plain": [
              "'Loved seeing all the people downtown this morning for dam to dam &amp; the farmers market.  '"
            ]
          },
          "execution_count": 11,
          "metadata": {},
          "output_type": "execute_result"
        }
      ],
      "source": [
        "data['Text'][999]"
      ]
    },
    {
      "cell_type": "code",
      "execution_count": null,
      "metadata": {
        "colab": {
          "base_uri": "https://localhost:8080/"
        },
        "id": "dJoIrMu-Ehcr",
        "outputId": "7350d02b-9322-469b-d2e5-f82bc2f7722a"
      },
      "outputs": [
        {
          "name": "stdout",
          "output_type": "stream",
          "text": [
            "Index(['label', 'Text', 'Cleaned_Text_POS', 'Cleaned_Text'], dtype='object')\n"
          ]
        }
      ],
      "source": [
        "print(data.columns)"
      ]
    },
    {
      "cell_type": "markdown",
      "metadata": {
        "id": "YtW5wapYE8JR"
      },
      "source": []
    },
    {
      "cell_type": "markdown",
      "metadata": {
        "id": "_4sOCcqFKG8N"
      },
      "source": [
        "# Random Forest Classifier"
      ]
    },
    {
      "cell_type": "code",
      "execution_count": null,
      "metadata": {
        "colab": {
          "base_uri": "https://localhost:8080/"
        },
        "id": "OOdzDX8j_Q4a",
        "outputId": "8ab10ef5-1ad9-43c8-9dae-7f6b0557dd73"
      },
      "outputs": [
        {
          "name": "stdout",
          "output_type": "stream",
          "text": [
            "DataFrame columns: Index(['label', 'Text', 'Cleaned_Text_POS', 'Cleaned_Text'], dtype='object')\n",
            "Missing values in 'Text' column: 0\n",
            "Accuracy: 0.88\n"
          ]
        }
      ],
      "source": [
        "from sklearn.feature_extraction.text import CountVectorizer\n",
        "from sklearn.ensemble import RandomForestClassifier\n",
        "from sklearn.model_selection import train_test_split\n",
        "from sklearn.metrics import accuracy_score\n",
        "import pandas as pd\n",
        "\n",
        "# Assuming 'data' is your DataFrame and it's already defined\n",
        "\n",
        "# Step 1: Print the column names to check for the correct naming\n",
        "print(\"DataFrame columns:\", data.columns)\n",
        "\n",
        "# Step 2: Check for NaN values in the 'Text' column\n",
        "print(\"Missing values in 'Text' column:\", data['Text'].isna().sum())\n",
        "\n",
        "# Step 3: Handle NaN values (Option 1: Drop rows with NaN values)\n",
        "data = data.dropna(subset=['Text', 'label'])  # Use the correct column name without spaces\n",
        "\n",
        "# Option 2: Fill NaN values with a placeholder (e.g., empty string)\n",
        "# data['Text'] = data['Text'].fillna('')\n",
        "\n",
        "# Step 4: Convert the text data into numerical features\n",
        "vectorizer = CountVectorizer(strip_accents=None, lowercase=False, preprocessor=None)\n",
        "X = vectorizer.fit_transform(data['Text'])\n",
        "\n",
        "# Step 5: Extract the label values\n",
        "y = data['label'].values  # Ensure the column name is correct\n",
        "\n",
        "# Step 6: Split the data into training and testing sets\n",
        "X_train, X_test, y_train, y_test = train_test_split(X, y, test_size=0.2, random_state=42)\n",
        "\n",
        "# Step 7: Train the Random Forest classifier\n",
        "rf = RandomForestClassifier(n_estimators=100, random_state=42)\n",
        "rf.fit(X_train, y_train)\n",
        "\n",
        "# Step 8: Make predictions on the test set\n",
        "y_pred = rf.predict(X_test)\n",
        "\n",
        "# Step 9: Evaluate the model\n",
        "accuracy = accuracy_score(y_test, y_pred)\n",
        "print(f'Accuracy: {accuracy:.2f}')\n"
      ]
    }
  ],
  "metadata": {
    "colab": {
      "provenance": []
    },
    "kernelspec": {
      "display_name": "Python 3",
      "name": "python3"
    },
    "language_info": {
      "codemirror_mode": {
        "name": "ipython",
        "version": 3
      },
      "file_extension": ".py",
      "mimetype": "text/x-python",
      "name": "python",
      "nbconvert_exporter": "python",
      "pygments_lexer": "ipython3",
      "version": "3.10.10"
    }
  },
  "nbformat": 4,
  "nbformat_minor": 0
}